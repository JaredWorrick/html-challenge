{
 "cells": [
  {
   "cell_type": "markdown",
   "id": "81f33512-9736-465c-868e-8e128aa8edaf",
   "metadata": {},
   "source": [
    "# CSS Case Study"
   ]
  },
  {
   "cell_type": "code",
   "execution_count": null,
   "id": "d2eb3574-49de-4503-912b-fdcfd6070ca3",
   "metadata": {},
   "outputs": [],
   "source": [
    "# Import BeautifulSoup\n",
    "from bs4 import BeautifulSoup as soup"
   ]
  },
  {
   "cell_type": "code",
   "execution_count": null,
   "id": "e9bc92ff-6725-4296-9f42-f7ef78a50d9b",
   "metadata": {},
   "outputs": [],
   "source": [
    "# Save the provided HTML code as a Python string.\n",
    "html = \"\"\"\n",
    "<!DOCTYPE html>\n",
    "<html lang=\"en\">\n",
    "\n",
    "<head>\n",
    "    <meta charset=\"UTF-8\">\n",
    "    <meta http-equiv=\"X-UA-Compatible\" content=\"IE=edge\">\n",
    "    <meta name=\"viewport\" content=\"width=device-width, initial-scale=1.0\">\n",
    "    <title>Document</title>\n",
    "\n",
    "    <style>\n",
    "        .even {\n",
    "            color: blue;\n",
    "        }\n",
    "\n",
    "        .odd {\n",
    "            color: green;\n",
    "        }\n",
    "    </style>\n",
    "\n",
    "</head>\n",
    "\n",
    "<body>\n",
    "    <div>\n",
    "        <p class=\"odd\" id=\"first\">First</p>\n",
    "        <p class=\"even\" id=\"second\">Second</p>\n",
    "        <p class=\"odd\" id=\"third\">Third</p>\n",
    "    </div>\n",
    "\n",
    "    <div>\n",
    "        <p class=\"even\" id=\"fourth\">Fourth</p>\n",
    "        <p class=\"odd\" id=\"fifth\">Fifth</p>\n",
    "        <p class=\"even\" id=\"sixth\">Sixth</p>\n",
    "    </div>\n",
    "</body>\n",
    "\n",
    "</html>\n",
    "\"\"\""
   ]
  },
  {
   "cell_type": "code",
   "execution_count": null,
   "id": "2d6528d1-02bd-4392-b1a8-a5cb62888767",
   "metadata": {},
   "outputs": [],
   "source": [
    "# Convert the HTML string into a BeautifulSoup object.\n"
   ]
  },
  {
   "cell_type": "code",
   "execution_count": null,
   "id": "29a1a9a6-a878-4978-aec0-6e2caca73bb7",
   "metadata": {},
   "outputs": [],
   "source": [
    "# Use the `find_all` function to retrieve **all** of the elements that belong to the `odd` class. \n",
    "# Save the results to a variable.\n"
   ]
  },
  {
   "cell_type": "code",
   "execution_count": null,
   "id": "ea3d80d2-7289-45f7-a532-f123752c4103",
   "metadata": {},
   "outputs": [],
   "source": [
    "# Display the results by using a `for` loop.\n"
   ]
  },
  {
   "cell_type": "markdown",
   "id": "3391cc5f-1193-44ff-983b-afb101efd9d6",
   "metadata": {},
   "source": [
    "Now that you’ve identified HTML elements by using the CSS `class` selector, you’ll do the same but using the `id` selector. Recall that a `class` can contain multiple elements but that an `id` must be unique."
   ]
  },
  {
   "cell_type": "code",
   "execution_count": null,
   "id": "02cef00f-3348-46a4-bb62-22bacaffbcee",
   "metadata": {},
   "outputs": [],
   "source": [
    "# Extract the text from a paragraph element that has an `id` of `first`.\n",
    "# Print your result.\n"
   ]
  }
 ],
 "metadata": {
  "kernelspec": {
   "display_name": "Python 3 (ipykernel)",
   "language": "python",
   "name": "python3"
  },
  "language_info": {
   "codemirror_mode": {
    "name": "ipython",
    "version": 3
   },
   "file_extension": ".py",
   "mimetype": "text/x-python",
   "name": "python",
   "nbconvert_exporter": "python",
   "pygments_lexer": "ipython3",
   "version": "3.8.13"
  }
 },
 "nbformat": 4,
 "nbformat_minor": 5
}
