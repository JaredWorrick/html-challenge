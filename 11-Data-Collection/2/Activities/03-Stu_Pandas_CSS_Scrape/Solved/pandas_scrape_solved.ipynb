{
 "cells": [
  {
   "cell_type": "code",
   "execution_count": 1,
   "metadata": {},
   "outputs": [],
   "source": [
    "from bs4 import BeautifulSoup"
   ]
  },
  {
   "cell_type": "code",
   "execution_count": 2,
   "metadata": {},
   "outputs": [],
   "source": [
    "html = \"\"\"\n",
    "<!DOCTYPE html>\n",
    "<html lang=\"en\">\n",
    "\n",
    "<head>\n",
    "    <meta charset=\"UTF-8\">\n",
    "    <meta http-equiv=\"X-UA-Compatible\" content=\"IE=edge\">\n",
    "    <meta name=\"viewport\" content=\"width=device-width, initial-scale=1.0\">\n",
    "    <title>Document</title>\n",
    "</head>\n",
    "\n",
    "<body>\n",
    "    <h1>pandas</h1>\n",
    "    <blockquote>pandas is a powerful Python data analysis library. </blockquote>\n",
    "\n",
    "    <div id=\"start\" class=\"section\">\n",
    "        <h3 class=\"section-header\">Getting Started</h3>\n",
    "        <ul class=\"pandas-ul\">\n",
    "            <a href=\"https://pandas.pydata.org/getting_started.html\">\n",
    "                <li>Install pandas</li>\n",
    "            </a>\n",
    "            <a href=\"https://pandas.pydata.org/docs/getting_started/index.html\">\n",
    "                <li>Getting started</li>\n",
    "            </a>\n",
    "        </ul>\n",
    "    </div>\n",
    "\n",
    "    <div id=\"documentation\" class=\"section\">\n",
    "        <h3 class=\"section-header\">Documentation</h3>\n",
    "        <ul class=\"pandas-ul\">\n",
    "            <a href=\"https://pandas.pydata.org/docs/user_guide/index.html\">\n",
    "                <li>User guide</li>\n",
    "            </a>\n",
    "            <a href=\"https://pandas.pydata.org/docs/reference/index.html\">\n",
    "                <li>API reference</li>\n",
    "            </a>\n",
    "            <a href=\"https://pandas.pydata.org/docs/development/index.html\">\n",
    "                <li>How to contribute to pandas</li>\n",
    "            </a>\n",
    "        </ul>\n",
    "    </div>\n",
    "\n",
    "    <div id=\"community\" class=\"section\">\n",
    "        <h3 class=\"section-header\">The pandas Community</h3>\n",
    "        <ul class=\"pandas-ul\">\n",
    "            <a href=\"https://pandas.pydata.org/about/index.html\">\n",
    "                <li>More about pandas</li>\n",
    "            </a>\n",
    "            <a href=\"https://stackoverflow.com/questions/tagged/pandas\">\n",
    "                <li>Have questions?</li>\n",
    "            </a>\n",
    "            <a href=\"https://pandas.pydata.org/community/ecosystem.html\">\n",
    "                <li>The pandas ecosystem</li>\n",
    "            </a>\n",
    "        </ul>\n",
    "    </div>\n",
    "</body>\n",
    "\n",
    "</html>\n",
    "\"\"\""
   ]
  },
  {
   "cell_type": "code",
   "execution_count": 3,
   "metadata": {},
   "outputs": [],
   "source": [
    "soup = BeautifulSoup(html, 'html.parser')"
   ]
  },
  {
   "cell_type": "code",
   "execution_count": 4,
   "metadata": {},
   "outputs": [
    {
     "data": {
      "text/plain": [
       "[<h3 class=\"section-header\">Getting Started</h3>,\n",
       " <h3 class=\"section-header\">Documentation</h3>,\n",
       " <h3 class=\"section-header\">The pandas Community</h3>]"
      ]
     },
     "execution_count": 4,
     "metadata": {},
     "output_type": "execute_result"
    }
   ],
   "source": [
    "all_titles = soup.find_all('h3')\n",
    "all_titles"
   ]
  },
  {
   "cell_type": "code",
   "execution_count": 5,
   "metadata": {},
   "outputs": [
    {
     "data": {
      "text/plain": [
       "['Getting Started', 'Documentation', 'The pandas Community']"
      ]
     },
     "execution_count": 5,
     "metadata": {},
     "output_type": "execute_result"
    }
   ],
   "source": [
    "titles = [title.text for title in all_titles]\n",
    "titles"
   ]
  },
  {
   "cell_type": "code",
   "execution_count": 6,
   "metadata": {},
   "outputs": [
    {
     "data": {
      "text/plain": [
       "<div class=\"section\" id=\"start\">\n",
       "<h3 class=\"section-header\">Getting Started</h3>\n",
       "<ul class=\"pandas-ul\">\n",
       "<a href=\"https://pandas.pydata.org/getting_started.html\">\n",
       "<li>Install pandas</li>\n",
       "</a>\n",
       "<a href=\"https://pandas.pydata.org/docs/getting_started/index.html\">\n",
       "<li>Getting started</li>\n",
       "</a>\n",
       "</ul>\n",
       "</div>"
      ]
     },
     "execution_count": 6,
     "metadata": {},
     "output_type": "execute_result"
    }
   ],
   "source": [
    "# Start section\n",
    "start_section = soup.find('div', id=\"start\")\n",
    "start_section"
   ]
  },
  {
   "cell_type": "code",
   "execution_count": 7,
   "metadata": {},
   "outputs": [
    {
     "data": {
      "text/plain": [
       "'Getting Started'"
      ]
     },
     "execution_count": 7,
     "metadata": {},
     "output_type": "execute_result"
    }
   ],
   "source": [
    "start_description = start_section.find('h3').text\n",
    "start_description"
   ]
  },
  {
   "cell_type": "code",
   "execution_count": 8,
   "metadata": {},
   "outputs": [
    {
     "data": {
      "text/plain": [
       "[<a href=\"https://pandas.pydata.org/getting_started.html\">\n",
       " <li>Install pandas</li>\n",
       " </a>,\n",
       " <a href=\"https://pandas.pydata.org/docs/getting_started/index.html\">\n",
       " <li>Getting started</li>\n",
       " </a>]"
      ]
     },
     "execution_count": 8,
     "metadata": {},
     "output_type": "execute_result"
    }
   ],
   "source": [
    "start_links = start_section.find_all('a')\n",
    "start_links"
   ]
  },
  {
   "cell_type": "code",
   "execution_count": 9,
   "metadata": {},
   "outputs": [
    {
     "data": {
      "text/plain": [
       "['https://pandas.pydata.org/getting_started.html',\n",
       " 'https://pandas.pydata.org/docs/getting_started/index.html']"
      ]
     },
     "execution_count": 9,
     "metadata": {},
     "output_type": "execute_result"
    }
   ],
   "source": [
    "start_urls = [link['href'] for link in start_links]\n",
    "start_urls"
   ]
  },
  {
   "cell_type": "code",
   "execution_count": 10,
   "metadata": {},
   "outputs": [
    {
     "data": {
      "text/plain": [
       "['https://pandas.pydata.org/getting_started.html',\n",
       " 'https://pandas.pydata.org/docs/getting_started/index.html',\n",
       " 'https://pandas.pydata.org/docs/user_guide/index.html',\n",
       " 'https://pandas.pydata.org/docs/reference/index.html',\n",
       " 'https://pandas.pydata.org/docs/development/index.html',\n",
       " 'https://pandas.pydata.org/about/index.html',\n",
       " 'https://stackoverflow.com/questions/tagged/pandas',\n",
       " 'https://pandas.pydata.org/community/ecosystem.html']"
      ]
     },
     "execution_count": 10,
     "metadata": {},
     "output_type": "execute_result"
    }
   ],
   "source": [
    "# All URLs\n",
    "all_urls = [link['href'] for link in soup.find_all('a')]\n",
    "all_urls"
   ]
  },
  {
   "cell_type": "code",
   "execution_count": 11,
   "metadata": {},
   "outputs": [],
   "source": [
    "# BONUS: Compile a dictionary of titles and URLs\n",
    "pandas_info_dict = {}"
   ]
  },
  {
   "cell_type": "code",
   "execution_count": 12,
   "metadata": {},
   "outputs": [],
   "source": [
    "all_divs = soup.find_all('div')\n",
    "for div in all_divs:\n",
    "    div_description = div.find('h3').text\n",
    "    urls = [link['href'] for link in div.find_all('a')]\n",
    "    pandas_info_dict[div_description] = urls    "
   ]
  },
  {
   "cell_type": "code",
   "execution_count": 13,
   "metadata": {},
   "outputs": [
    {
     "data": {
      "text/plain": [
       "{'Getting Started': ['https://pandas.pydata.org/getting_started.html',\n",
       "  'https://pandas.pydata.org/docs/getting_started/index.html'],\n",
       " 'Documentation': ['https://pandas.pydata.org/docs/user_guide/index.html',\n",
       "  'https://pandas.pydata.org/docs/reference/index.html',\n",
       "  'https://pandas.pydata.org/docs/development/index.html'],\n",
       " 'The pandas Community': ['https://pandas.pydata.org/about/index.html',\n",
       "  'https://stackoverflow.com/questions/tagged/pandas',\n",
       "  'https://pandas.pydata.org/community/ecosystem.html']}"
      ]
     },
     "execution_count": 13,
     "metadata": {},
     "output_type": "execute_result"
    }
   ],
   "source": [
    "pandas_info_dict"
   ]
  },
  {
   "cell_type": "code",
   "execution_count": 14,
   "metadata": {},
   "outputs": [],
   "source": [
    "# Using a for-loop\n",
    "alternate_dict = {}\n",
    "for div in all_divs:\n",
    "    div_desc = div.find('h3').text\n",
    "    div_urls = div.find_all('a')\n",
    "    url_list = []\n",
    "    for url in div_urls:\n",
    "        url_list.append(url['href'])\n",
    "    alternate_dict[div_desc] = url_list        "
   ]
  },
  {
   "cell_type": "code",
   "execution_count": 15,
   "metadata": {},
   "outputs": [
    {
     "data": {
      "text/plain": [
       "{'Getting Started': ['https://pandas.pydata.org/getting_started.html',\n",
       "  'https://pandas.pydata.org/docs/getting_started/index.html'],\n",
       " 'Documentation': ['https://pandas.pydata.org/docs/user_guide/index.html',\n",
       "  'https://pandas.pydata.org/docs/reference/index.html',\n",
       "  'https://pandas.pydata.org/docs/development/index.html'],\n",
       " 'The pandas Community': ['https://pandas.pydata.org/about/index.html',\n",
       "  'https://stackoverflow.com/questions/tagged/pandas',\n",
       "  'https://pandas.pydata.org/community/ecosystem.html']}"
      ]
     },
     "execution_count": 15,
     "metadata": {},
     "output_type": "execute_result"
    }
   ],
   "source": [
    "alternate_dict"
   ]
  },
  {
   "cell_type": "code",
   "execution_count": null,
   "metadata": {},
   "outputs": [],
   "source": []
  }
 ],
 "metadata": {
  "kernelspec": {
   "display_name": "Python 3 (ipykernel)",
   "language": "python",
   "name": "python3"
  },
  "language_info": {
   "codemirror_mode": {
    "name": "ipython",
    "version": 3
   },
   "file_extension": ".py",
   "mimetype": "text/x-python",
   "name": "python",
   "nbconvert_exporter": "python",
   "pygments_lexer": "ipython3",
   "version": "3.8.13"
  }
 },
 "nbformat": 4,
 "nbformat_minor": 4
}
