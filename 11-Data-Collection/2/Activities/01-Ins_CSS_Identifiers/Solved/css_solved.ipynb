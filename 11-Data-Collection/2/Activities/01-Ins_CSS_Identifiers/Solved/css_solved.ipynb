{
 "cells": [
  {
   "cell_type": "markdown",
   "metadata": {},
   "source": [
    "# CSS Scraping"
   ]
  },
  {
   "cell_type": "code",
   "execution_count": 1,
   "metadata": {},
   "outputs": [],
   "source": [
    "from bs4 import BeautifulSoup"
   ]
  },
  {
   "cell_type": "code",
   "execution_count": 2,
   "metadata": {},
   "outputs": [],
   "source": [
    "html = \"\"\"\n",
    "<!DOCTYPE html>\n",
    "<html lang=\"en\">\n",
    "\n",
    "<head>\n",
    "    <meta charset=\"UTF-8\">\n",
    "    <meta http-equiv=\"X-UA-Compatible\" content=\"IE=edge\">\n",
    "    <meta name=\"viewport\" content=\"width=device-width, initial-scale=1.0\">\n",
    "    <title>My First CSS Adventure</title>\n",
    "\n",
    "    <style>\n",
    "        #cities {\n",
    "            color: purple;\n",
    "        }\n",
    "\n",
    "        .meat {\n",
    "            color: brown;\n",
    "        }\n",
    "\n",
    "        .vegetarian {\n",
    "            color: green;\n",
    "        }\n",
    "\n",
    "        #favorite {\n",
    "            color: orange;\n",
    "        }\n",
    "    </style>\n",
    "\n",
    "</head>\n",
    "\n",
    "<body>\n",
    "\n",
    "    <ol id=\"cities\">\n",
    "        <li>New York</li>\n",
    "        <li>Paris</li>\n",
    "        <li>Seoul</li>\n",
    "        <li>Prague</li>\n",
    "    </ol>\n",
    "\n",
    "    <ol>\n",
    "        <li class=\"meat\">Taco</li>\n",
    "        <li class=\"meat\">Burger</li>\n",
    "        <li class=\"vegetarian\">Cheese pizza</li>\n",
    "        <li class=\"vegetarian\">Mac and cheese</li>\n",
    "    </ol>\n",
    "\n",
    "    <ol>\n",
    "        <li id=\"favorite\">Star Wars</li>\n",
    "        <li>Lion King</li>\n",
    "        <li>Godfather</li>\n",
    "        <li>Lord of the Rings</li>\n",
    "    </ol>\n",
    "</body>\n",
    "\n",
    "</html>\n",
    "\"\"\""
   ]
  },
  {
   "cell_type": "code",
   "execution_count": 3,
   "metadata": {},
   "outputs": [],
   "source": [
    "# Parse the code with Beautiful Soup\n",
    "soup = BeautifulSoup(html, 'html.parser')"
   ]
  },
  {
   "cell_type": "code",
   "execution_count": 4,
   "metadata": {},
   "outputs": [],
   "source": [
    "# Match elements by ID\n",
    "cities = soup.find('ol', id='cities')"
   ]
  },
  {
   "cell_type": "code",
   "execution_count": 5,
   "metadata": {},
   "outputs": [
    {
     "data": {
      "text/plain": [
       "<ol id=\"cities\">\n",
       "<li>New York</li>\n",
       "<li>Paris</li>\n",
       "<li>Seoul</li>\n",
       "<li>Prague</li>\n",
       "</ol>"
      ]
     },
     "execution_count": 5,
     "metadata": {},
     "output_type": "execute_result"
    }
   ],
   "source": [
    "cities"
   ]
  },
  {
   "cell_type": "code",
   "execution_count": 6,
   "metadata": {},
   "outputs": [],
   "source": [
    "# Find all matches\n",
    "city_list_items = cities.find_all('li')"
   ]
  },
  {
   "cell_type": "code",
   "execution_count": 7,
   "metadata": {},
   "outputs": [
    {
     "name": "stdout",
     "output_type": "stream",
     "text": [
      "<li>New York</li>\n",
      "<li>Paris</li>\n",
      "<li>Seoul</li>\n",
      "<li>Prague</li>\n"
     ]
    }
   ],
   "source": [
    "# Print all the cities\n",
    "for city in city_list_items:\n",
    "    print(city)"
   ]
  },
  {
   "cell_type": "code",
   "execution_count": 8,
   "metadata": {},
   "outputs": [
    {
     "name": "stdout",
     "output_type": "stream",
     "text": [
      "New York\n",
      "Paris\n",
      "Seoul\n",
      "Prague\n"
     ]
    }
   ],
   "source": [
    "# Print the text of all the cities\n",
    "for city in city_list_items:\n",
    "    print(city.text)"
   ]
  },
  {
   "cell_type": "code",
   "execution_count": 9,
   "metadata": {},
   "outputs": [
    {
     "data": {
      "text/plain": [
       "['New York', 'Paris', 'Seoul', 'Prague']"
      ]
     },
     "execution_count": 9,
     "metadata": {},
     "output_type": "execute_result"
    }
   ],
   "source": [
    "# Same as above, as a list comprehension\n",
    "[city.text for city in city_list_items]"
   ]
  },
  {
   "cell_type": "code",
   "execution_count": 10,
   "metadata": {},
   "outputs": [],
   "source": [
    "# All list items on the page\n",
    "all_items = soup.find_all('li')"
   ]
  },
  {
   "cell_type": "code",
   "execution_count": 11,
   "metadata": {},
   "outputs": [
    {
     "data": {
      "text/plain": [
       "[<li>New York</li>,\n",
       " <li>Paris</li>,\n",
       " <li>Seoul</li>,\n",
       " <li>Prague</li>,\n",
       " <li class=\"meat\">Taco</li>,\n",
       " <li class=\"meat\">Burger</li>,\n",
       " <li class=\"vegetarian\">Cheese pizza</li>,\n",
       " <li class=\"vegetarian\">Mac and cheese</li>,\n",
       " <li id=\"favorite\">Star Wars</li>,\n",
       " <li>Lion King</li>,\n",
       " <li>Godfather</li>,\n",
       " <li>Lord of the Rings</li>]"
      ]
     },
     "execution_count": 11,
     "metadata": {},
     "output_type": "execute_result"
    }
   ],
   "source": [
    "# Create a list of each list item\n",
    "[item for item in all_items]"
   ]
  },
  {
   "cell_type": "code",
   "execution_count": 12,
   "metadata": {},
   "outputs": [
    {
     "data": {
      "text/plain": [
       "['New York',\n",
       " 'Paris',\n",
       " 'Seoul',\n",
       " 'Prague',\n",
       " 'Taco',\n",
       " 'Burger',\n",
       " 'Cheese pizza',\n",
       " 'Mac and cheese',\n",
       " 'Star Wars',\n",
       " 'Lion King',\n",
       " 'Godfather',\n",
       " 'Lord of the Rings']"
      ]
     },
     "execution_count": 12,
     "metadata": {},
     "output_type": "execute_result"
    }
   ],
   "source": [
    "# Create a list of the text in each list item\n",
    "[item.text for item in all_items]"
   ]
  },
  {
   "cell_type": "code",
   "execution_count": 13,
   "metadata": {},
   "outputs": [],
   "source": [
    "# Match items by class\n",
    "meat_items = soup.find_all('li', class_='meat')"
   ]
  },
  {
   "cell_type": "code",
   "execution_count": 14,
   "metadata": {},
   "outputs": [
    {
     "data": {
      "text/plain": [
       "['Taco', 'Burger']"
      ]
     },
     "execution_count": 14,
     "metadata": {},
     "output_type": "execute_result"
    }
   ],
   "source": [
    "# Create a list of the text in each meat item\n",
    "[meat.text for meat in meat_items]"
   ]
  },
  {
   "cell_type": "code",
   "execution_count": 15,
   "metadata": {},
   "outputs": [],
   "source": [
    "# Find the vegetarian items using the vegetarian class\n",
    "vegetarian_items = soup.find_all('li', class_='vegetarian')"
   ]
  },
  {
   "cell_type": "code",
   "execution_count": 16,
   "metadata": {},
   "outputs": [
    {
     "data": {
      "text/plain": [
       "['Cheese pizza', 'Mac and cheese']"
      ]
     },
     "execution_count": 16,
     "metadata": {},
     "output_type": "execute_result"
    }
   ],
   "source": [
    "# Create a list of the text of the vegetarian items\n",
    "[v.text for v in vegetarian_items]"
   ]
  },
  {
   "cell_type": "code",
   "execution_count": null,
   "metadata": {},
   "outputs": [],
   "source": []
  }
 ],
 "metadata": {
  "kernelspec": {
   "display_name": "Python 3 (ipykernel)",
   "language": "python",
   "name": "python3"
  },
  "language_info": {
   "codemirror_mode": {
    "name": "ipython",
    "version": 3
   },
   "file_extension": ".py",
   "mimetype": "text/x-python",
   "name": "python",
   "nbconvert_exporter": "python",
   "pygments_lexer": "ipython3",
   "version": "3.8.13"
  }
 },
 "nbformat": 4,
 "nbformat_minor": 4
}
