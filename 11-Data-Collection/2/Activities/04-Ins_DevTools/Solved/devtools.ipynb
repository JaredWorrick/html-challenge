{
 "cells": [
  {
   "cell_type": "code",
   "execution_count": 1,
   "metadata": {},
   "outputs": [],
   "source": [
    "from splinter import Browser\n",
    "from bs4 import BeautifulSoup"
   ]
  },
  {
   "cell_type": "code",
   "execution_count": 2,
   "metadata": {},
   "outputs": [],
   "source": [
    "# Set up Splinter\n",
    "browser = Browser('chrome')"
   ]
  },
  {
   "cell_type": "code",
   "execution_count": 3,
   "metadata": {},
   "outputs": [],
   "source": [
    "url = \"https://stackoverflow.com/questions/tagged/python?sort=MostVotes&edited=true\""
   ]
  },
  {
   "cell_type": "code",
   "execution_count": 4,
   "metadata": {},
   "outputs": [],
   "source": [
    "browser.visit(url)"
   ]
  },
  {
   "cell_type": "code",
   "execution_count": 5,
   "metadata": {},
   "outputs": [],
   "source": [
    "html = browser.html"
   ]
  },
  {
   "cell_type": "code",
   "execution_count": 6,
   "metadata": {},
   "outputs": [],
   "source": [
    "soup = BeautifulSoup(html, 'html.parser')"
   ]
  },
  {
   "cell_type": "code",
   "execution_count": 7,
   "metadata": {},
   "outputs": [
    {
     "data": {
      "text/plain": [
       "'\\nQuestions tagged [python]        '"
      ]
     },
     "execution_count": 7,
     "metadata": {},
     "output_type": "execute_result"
    }
   ],
   "source": [
    "soup.find('h1').text"
   ]
  },
  {
   "cell_type": "code",
   "execution_count": 8,
   "metadata": {},
   "outputs": [
    {
     "data": {
      "text/plain": [
       "'Questions tagged [python]'"
      ]
     },
     "execution_count": 8,
     "metadata": {},
     "output_type": "execute_result"
    }
   ],
   "source": [
    "soup.find('h1').text.strip()"
   ]
  },
  {
   "cell_type": "code",
   "execution_count": 9,
   "metadata": {},
   "outputs": [],
   "source": [
    "questions = soup.find_all('a', class_=\"s-link\")"
   ]
  },
  {
   "cell_type": "code",
   "execution_count": 10,
   "metadata": {},
   "outputs": [
    {
     "data": {
      "text/plain": [
       "[<a aria-controls=\"popover-discover-collectives\" aria-expanded=\"false\" class=\"s-link s-link__inherit mr8 js-gps-track js-collectives-navcta-toggle\" data-action=\"s-popover#toggle\" data-controller=\"s-popover\" data-gps-track=\"top_nav.click({is_current:false, location:5, destination:17})\" data-s-popover-placement=\"top\" data-s-popover-toggle-class=\"is-selected\" href=\"javascript:void(0)\" role=\"button\">\n",
       " <svg aria-hidden=\"true\" class=\"svg-icon iconInfoSm\" height=\"14\" viewbox=\"0 0 14 14\" width=\"14\"><path d=\"M7 1a6 6 0 1 1 0 12A6 6 0 0 1 7 1Zm1 10V6H6v5h2Zm0-6V3H6v2h2Z\"></path></svg>\n",
       " </a>,\n",
       " <a aria-controls=\"popover-teams-create-cta\" aria-expanded=\"false\" class=\"s-link p12 fc-black-500 h:fc-black-800 js-gps-track\" data-action=\"s-popover#toggle\" data-controller=\"s-popover\" data-ga='[\"teams left navigation - anonymous\",\"left nav show teams info\",null,null,null]' data-gps-track=\"teams.create.left-sidenav.click({ Action: ShowInfo })\" data-s-popover-placement=\"bottom-start\" data-s-popover-toggle-class=\"is-selected\" href=\"javascript:void(0)\" role=\"button\">\n",
       " <svg aria-hidden=\"true\" class=\"svg-icon iconInfoSm\" height=\"14\" viewbox=\"0 0 14 14\" width=\"14\"><path d=\"M7 1a6 6 0 1 1 0 12A6 6 0 0 1 7 1Zm1 10V6H6v5h2Zm0-6V3H6v2h2Z\"></path></svg>\n",
       " </a>,\n",
       " <a class=\"s-link\" href=\"/questions/231767/what-does-the-yield-keyword-do\">What does the \"yield\" keyword do?</a>,\n",
       " <a class=\"s-link\" href=\"/questions/419163/what-does-if-name-main-do-in-python\">What does if __name__ == \"__main__\": do in Python?</a>,\n",
       " <a class=\"s-link\" href=\"/questions/394809/does-python-have-a-ternary-conditional-operator\">Does Python have a ternary conditional operator?</a>,\n",
       " <a class=\"s-link\" href=\"/questions/100003/what-are-metaclasses-in-python\">What are metaclasses in Python?</a>,\n",
       " <a class=\"s-link\" href=\"/questions/82831/how-do-i-check-whether-a-file-exists-without-exceptions\">How do I check whether a file exists without exceptions?</a>,\n",
       " <a class=\"s-link\" href=\"/questions/38987/how-do-i-merge-two-dictionaries-in-a-single-expression\">How do I merge two dictionaries in a single expression?</a>,\n",
       " <a class=\"s-link\" href=\"/questions/89228/how-do-i-execute-a-program-or-call-a-system-command\">How do I execute a program or call a system command?</a>,\n",
       " <a class=\"s-link\" href=\"/questions/273192/how-can-i-safely-create-a-nested-directory\">How can I safely create a nested directory?</a>,\n",
       " <a class=\"s-link\" href=\"/questions/522563/accessing-the-index-in-for-loops\">Accessing the index in 'for' loops</a>,\n",
       " <a class=\"s-link\" href=\"/questions/952914/how-do-i-make-a-flat-list-out-of-a-list-of-lists\">How do I make a flat list out of a list of lists?</a>,\n",
       " <a class=\"s-link\" href=\"/questions/136097/difference-between-staticmethod-and-classmethod\">Difference between @staticmethod and @classmethod</a>,\n",
       " <a class=\"s-link\" href=\"/questions/509211/understanding-slicing\">Understanding slicing</a>,\n",
       " <a class=\"s-link\" href=\"/questions/176918/finding-the-index-of-an-item-in-a-list\">Finding the index of an item in a list</a>,\n",
       " <a class=\"s-link\" href=\"/questions/3294889/iterating-over-dictionaries-using-for-loops\">Iterating over dictionaries using 'for' loops</a>,\n",
       " <a class=\"s-link\" href=\"/questions/423379/using-global-variables-in-a-function\">Using global variables in a function</a>,\n",
       " <a class=\"js-gps-track s-link s-link__inherit\" data-gps-track=\"posts_hot_network.click({ item_type:1, location:9 })\" href=\"https://stackexchange.com/questions?tab=hot\">\n",
       "             Hot Network Questions\n",
       "         </a>]"
      ]
     },
     "execution_count": 10,
     "metadata": {},
     "output_type": "execute_result"
    }
   ],
   "source": [
    "questions"
   ]
  },
  {
   "cell_type": "code",
   "execution_count": 11,
   "metadata": {},
   "outputs": [
    {
     "name": "stdout",
     "output_type": "stream",
     "text": [
      "['s-link', 's-link__inherit', 'mr8', 'js-gps-track', 'js-collectives-navcta-toggle']\n",
      "['s-link', 'p12', 'fc-black-500', 'h:fc-black-800', 'js-gps-track']\n",
      "['s-link']\n",
      "['s-link']\n",
      "['s-link']\n",
      "['s-link']\n",
      "['s-link']\n",
      "['s-link']\n",
      "['s-link']\n",
      "['s-link']\n",
      "['s-link']\n",
      "['s-link']\n",
      "['s-link']\n",
      "['s-link']\n",
      "['s-link']\n",
      "['s-link']\n",
      "['s-link']\n",
      "['js-gps-track', 's-link', 's-link__inherit']\n"
     ]
    }
   ],
   "source": [
    "for question in questions:\n",
    "    print(question['class'])"
   ]
  },
  {
   "cell_type": "code",
   "execution_count": 12,
   "metadata": {},
   "outputs": [
    {
     "data": {
      "text/plain": [
       "[<a class=\"s-link\" href=\"/questions/231767/what-does-the-yield-keyword-do\">What does the \"yield\" keyword do?</a>,\n",
       " <a class=\"s-link\" href=\"/questions/419163/what-does-if-name-main-do-in-python\">What does if __name__ == \"__main__\": do in Python?</a>,\n",
       " <a class=\"s-link\" href=\"/questions/394809/does-python-have-a-ternary-conditional-operator\">Does Python have a ternary conditional operator?</a>,\n",
       " <a class=\"s-link\" href=\"/questions/100003/what-are-metaclasses-in-python\">What are metaclasses in Python?</a>,\n",
       " <a class=\"s-link\" href=\"/questions/82831/how-do-i-check-whether-a-file-exists-without-exceptions\">How do I check whether a file exists without exceptions?</a>,\n",
       " <a class=\"s-link\" href=\"/questions/38987/how-do-i-merge-two-dictionaries-in-a-single-expression\">How do I merge two dictionaries in a single expression?</a>,\n",
       " <a class=\"s-link\" href=\"/questions/89228/how-do-i-execute-a-program-or-call-a-system-command\">How do I execute a program or call a system command?</a>,\n",
       " <a class=\"s-link\" href=\"/questions/273192/how-can-i-safely-create-a-nested-directory\">How can I safely create a nested directory?</a>,\n",
       " <a class=\"s-link\" href=\"/questions/522563/accessing-the-index-in-for-loops\">Accessing the index in 'for' loops</a>,\n",
       " <a class=\"s-link\" href=\"/questions/952914/how-do-i-make-a-flat-list-out-of-a-list-of-lists\">How do I make a flat list out of a list of lists?</a>,\n",
       " <a class=\"s-link\" href=\"/questions/136097/difference-between-staticmethod-and-classmethod\">Difference between @staticmethod and @classmethod</a>,\n",
       " <a class=\"s-link\" href=\"/questions/509211/understanding-slicing\">Understanding slicing</a>,\n",
       " <a class=\"s-link\" href=\"/questions/176918/finding-the-index-of-an-item-in-a-list\">Finding the index of an item in a list</a>,\n",
       " <a class=\"s-link\" href=\"/questions/3294889/iterating-over-dictionaries-using-for-loops\">Iterating over dictionaries using 'for' loops</a>,\n",
       " <a class=\"s-link\" href=\"/questions/423379/using-global-variables-in-a-function\">Using global variables in a function</a>]"
      ]
     },
     "execution_count": 12,
     "metadata": {},
     "output_type": "execute_result"
    }
   ],
   "source": [
    "questions = [question for question in questions if question['class']==['s-link']]\n",
    "questions"
   ]
  },
  {
   "cell_type": "code",
   "execution_count": 13,
   "metadata": {},
   "outputs": [
    {
     "data": {
      "text/plain": [
       "'/questions/231767/what-does-the-yield-keyword-do'"
      ]
     },
     "execution_count": 13,
     "metadata": {},
     "output_type": "execute_result"
    }
   ],
   "source": [
    "questions[0]['href']"
   ]
  },
  {
   "cell_type": "code",
   "execution_count": 14,
   "metadata": {},
   "outputs": [
    {
     "data": {
      "text/plain": [
       "'What does the \"yield\" keyword do?'"
      ]
     },
     "execution_count": 14,
     "metadata": {},
     "output_type": "execute_result"
    }
   ],
   "source": [
    "questions[0].text"
   ]
  },
  {
   "cell_type": "code",
   "execution_count": 15,
   "metadata": {},
   "outputs": [],
   "source": [
    "browser.quit()"
   ]
  },
  {
   "cell_type": "code",
   "execution_count": null,
   "metadata": {},
   "outputs": [],
   "source": []
  }
 ],
 "metadata": {
  "kernelspec": {
   "display_name": "Python 3 (ipykernel)",
   "language": "python",
   "name": "python3"
  },
  "language_info": {
   "codemirror_mode": {
    "name": "ipython",
    "version": 3
   },
   "file_extension": ".py",
   "mimetype": "text/x-python",
   "name": "python",
   "nbconvert_exporter": "python",
   "pygments_lexer": "ipython3",
   "version": "3.8.13"
  }
 },
 "nbformat": 4,
 "nbformat_minor": 4
}
