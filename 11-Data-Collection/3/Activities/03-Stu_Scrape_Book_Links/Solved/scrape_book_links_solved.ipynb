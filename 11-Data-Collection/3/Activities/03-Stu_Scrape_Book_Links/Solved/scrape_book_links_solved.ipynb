{
 "cells": [
  {
   "cell_type": "markdown",
   "metadata": {},
   "source": [
    "# Scrape Book Links"
   ]
  },
  {
   "cell_type": "code",
   "execution_count": 1,
   "metadata": {},
   "outputs": [],
   "source": [
    "from splinter import Browser\n",
    "from bs4 import BeautifulSoup as soup"
   ]
  },
  {
   "cell_type": "code",
   "execution_count": 2,
   "metadata": {},
   "outputs": [],
   "source": [
    "# Set up the browser\n",
    "browser = Browser('chrome')"
   ]
  },
  {
   "cell_type": "markdown",
   "metadata": {},
   "source": [
    "## Scrape Book Links from One Page"
   ]
  },
  {
   "cell_type": "code",
   "execution_count": 3,
   "metadata": {},
   "outputs": [],
   "source": [
    "# Visit the website\n",
    "url = 'http://books.toscrape.com/'\n",
    "browser.visit(url)"
   ]
  },
  {
   "cell_type": "code",
   "execution_count": 4,
   "metadata": {},
   "outputs": [],
   "source": [
    "# Create a BeautifulSoup parser to parse the HTML code\n",
    "html = browser.html\n",
    "book_soup = soup(html, 'html.parser')"
   ]
  },
  {
   "cell_type": "code",
   "execution_count": 5,
   "metadata": {},
   "outputs": [],
   "source": [
    "# Scrape all the book information on a single page\n",
    "book_info = book_soup.find_all(class_ = 'image_container')"
   ]
  },
  {
   "cell_type": "code",
   "execution_count": 6,
   "metadata": {},
   "outputs": [
    {
     "data": {
      "text/plain": [
       "['catalogue/a-light-in-the-attic_1000/index.html',\n",
       " 'catalogue/tipping-the-velvet_999/index.html',\n",
       " 'catalogue/soumission_998/index.html',\n",
       " 'catalogue/sharp-objects_997/index.html',\n",
       " 'catalogue/sapiens-a-brief-history-of-humankind_996/index.html',\n",
       " 'catalogue/the-requiem-red_995/index.html',\n",
       " 'catalogue/the-dirty-little-secrets-of-getting-your-dream-job_994/index.html',\n",
       " 'catalogue/the-coming-woman-a-novel-based-on-the-life-of-the-infamous-feminist-victoria-woodhull_993/index.html',\n",
       " 'catalogue/the-boys-in-the-boat-nine-americans-and-their-epic-quest-for-gold-at-the-1936-berlin-olympics_992/index.html',\n",
       " 'catalogue/the-black-maria_991/index.html',\n",
       " 'catalogue/starving-hearts-triangular-trade-trilogy-1_990/index.html',\n",
       " 'catalogue/shakespeares-sonnets_989/index.html',\n",
       " 'catalogue/set-me-free_988/index.html',\n",
       " 'catalogue/scott-pilgrims-precious-little-life-scott-pilgrim-1_987/index.html',\n",
       " 'catalogue/rip-it-up-and-start-again_986/index.html',\n",
       " 'catalogue/our-band-could-be-your-life-scenes-from-the-american-indie-underground-1981-1991_985/index.html',\n",
       " 'catalogue/olio_984/index.html',\n",
       " 'catalogue/mesaerion-the-best-science-fiction-stories-1800-1849_983/index.html',\n",
       " 'catalogue/libertarianism-for-beginners_982/index.html',\n",
       " 'catalogue/its-only-the-himalayas_981/index.html']"
      ]
     },
     "execution_count": 6,
     "metadata": {},
     "output_type": "execute_result"
    }
   ],
   "source": [
    "# Extract and store the links for each of the books \n",
    "book_urls = []\n",
    "for book in book_info:\n",
    "    book_urls.append(book.a['href'])\n",
    "book_urls"
   ]
  },
  {
   "cell_type": "markdown",
   "metadata": {},
   "source": [
    "## Scrape Book Links from Multiple Pages"
   ]
  },
  {
   "cell_type": "code",
   "execution_count": 7,
   "metadata": {},
   "outputs": [],
   "source": [
    "# Automate clicking the next button\n",
    "browser.links.find_by_partial_text('next').click()"
   ]
  },
  {
   "cell_type": "code",
   "execution_count": 8,
   "metadata": {},
   "outputs": [
    {
     "name": "stdout",
     "output_type": "stream",
     "text": [
      "page: 1 ----------\n",
      "in-her-wake_980/index.html\n",
      "how-music-works_979/index.html\n",
      "foolproof-preserving-a-guide-to-small-batch-jams-jellies-pickles-condiments-and-more-a-foolproof-guide-to-making-small-batch-jams-jellies-pickles-condiments-and-more_978/index.html\n",
      "chase-me-paris-nights-2_977/index.html\n",
      "black-dust_976/index.html\n",
      "birdsong-a-story-in-pictures_975/index.html\n",
      "americas-cradle-of-quarterbacks-western-pennsylvanias-football-factory-from-johnny-unitas-to-joe-montana_974/index.html\n",
      "aladdin-and-his-wonderful-lamp_973/index.html\n",
      "worlds-elsewhere-journeys-around-shakespeares-globe_972/index.html\n",
      "wall-and-piece_971/index.html\n",
      "the-four-agreements-a-practical-guide-to-personal-freedom_970/index.html\n",
      "the-five-love-languages-how-to-express-heartfelt-commitment-to-your-mate_969/index.html\n",
      "the-elephant-tree_968/index.html\n",
      "the-bear-and-the-piano_967/index.html\n",
      "sophies-world_966/index.html\n",
      "penny-maybe_965/index.html\n",
      "maude-1883-1993she-grew-up-with-the-country_964/index.html\n",
      "in-a-dark-dark-wood_963/index.html\n",
      "behind-closed-doors_962/index.html\n",
      "you-cant-bury-them-all-poems_961/index.html\n",
      "page: 2 ----------\n",
      "slow-states-of-collapse-poems_960/index.html\n",
      "reasons-to-stay-alive_959/index.html\n",
      "private-paris-private-10_958/index.html\n",
      "higherselfie-wake-up-your-life-free-your-soul-find-your-tribe_957/index.html\n",
      "without-borders-wanderlove-1_956/index.html\n",
      "when-we-collided_955/index.html\n",
      "we-love-you-charlie-freeman_954/index.html\n",
      "untitled-collection-sabbath-poems-2014_953/index.html\n",
      "unseen-city-the-majesty-of-pigeons-the-discreet-charm-of-snails-other-wonders-of-the-urban-wilderness_952/index.html\n",
      "unicorn-tracks_951/index.html\n",
      "unbound-how-eight-technologies-made-us-human-transformed-society-and-brought-our-world-to-the-brink_950/index.html\n",
      "tsubasa-world-chronicle-2-tsubasa-world-chronicle-2_949/index.html\n",
      "throwing-rocks-at-the-google-bus-how-growth-became-the-enemy-of-prosperity_948/index.html\n",
      "this-one-summer_947/index.html\n",
      "thirst_946/index.html\n",
      "the-torch-is-passed-a-harding-family-story_945/index.html\n",
      "the-secret-of-dreadwillow-carse_944/index.html\n",
      "the-pioneer-woman-cooks-dinnertime-comfort-classics-freezer-food-16-minute-meals-and-other-delicious-ways-to-solve-supper_943/index.html\n",
      "the-past-never-ends_942/index.html\n",
      "the-natural-history-of-us-the-fine-art-of-pretending-2_941/index.html\n",
      "page: 3 ----------\n",
      "the-nameless-city-the-nameless-city-1_940/index.html\n",
      "the-murder-that-never-was-forensic-instincts-5_939/index.html\n",
      "the-most-perfect-thing-inside-and-outside-a-birds-egg_938/index.html\n",
      "the-mindfulness-and-acceptance-workbook-for-anxiety-a-guide-to-breaking-free-from-anxiety-phobias-and-worry-using-acceptance-and-commitment-therapy_937/index.html\n",
      "the-life-changing-magic-of-tidying-up-the-japanese-art-of-decluttering-and-organizing_936/index.html\n",
      "the-inefficiency-assassin-time-management-tactics-for-working-smarter-not-longer_935/index.html\n",
      "the-gutsy-girl-escapades-for-your-life-of-epic-adventure_934/index.html\n",
      "the-electric-pencil-drawings-from-inside-state-hospital-no-3_933/index.html\n",
      "the-death-of-humanity-and-the-case-for-life_932/index.html\n",
      "the-bulletproof-diet-lose-up-to-a-pound-a-day-reclaim-energy-and-focus-upgrade-your-life_931/index.html\n",
      "the-art-forger_930/index.html\n",
      "the-age-of-genius-the-seventeenth-century-and-the-birth-of-the-modern-mind_929/index.html\n",
      "the-activists-tao-te-ching-ancient-advice-for-a-modern-revolution_928/index.html\n",
      "spark-joy-an-illustrated-master-class-on-the-art-of-organizing-and-tidying-up_927/index.html\n",
      "soul-reader_926/index.html\n",
      "security_925/index.html\n",
      "saga-volume-6-saga-collected-editions-6_924/index.html\n",
      "saga-volume-5-saga-collected-editions-5_923/index.html\n",
      "reskilling-america-learning-to-labor-in-the-twenty-first-century_922/index.html\n",
      "rat-queens-vol-3-demons-rat-queens-collected-editions-11-15_921/index.html\n"
     ]
    }
   ],
   "source": [
    "# Use a for loop and browser automation to visit the first 3 pages and print the book urls\n",
    "for x in range(1, 4):\n",
    "    html = browser.html\n",
    "    book_soup = soup(html, 'html.parser')\n",
    "    book_info = book_soup.find_all(class_ = 'image_container')\n",
    "    print('page:', x, '----------')\n",
    "    for book in book_info:\n",
    "        print(book.a['href'])\n",
    "    browser.links.find_by_partial_text('next').click()"
   ]
  },
  {
   "cell_type": "code",
   "execution_count": 9,
   "metadata": {},
   "outputs": [],
   "source": [
    "browser.quit()"
   ]
  }
 ],
 "metadata": {
  "kernelspec": {
   "display_name": "Python 3 (ipykernel)",
   "language": "python",
   "name": "python3"
  },
  "language_info": {
   "codemirror_mode": {
    "name": "ipython",
    "version": 3
   },
   "file_extension": ".py",
   "mimetype": "text/x-python",
   "name": "python",
   "nbconvert_exporter": "python",
   "pygments_lexer": "ipython3",
   "version": "3.8.13"
  },
  "vscode": {
   "interpreter": {
    "hash": "31f2aee4e71d21fbe5cf8b01ff0e069b9275f58929596ceb00d14d90e3e16cd6"
   }
  }
 },
 "nbformat": 4,
 "nbformat_minor": 4
}
