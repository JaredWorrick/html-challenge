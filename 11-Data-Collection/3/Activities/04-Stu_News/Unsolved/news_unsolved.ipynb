{
 "cells": [
  {
   "cell_type": "code",
   "execution_count": null,
   "id": "084d2f0e",
   "metadata": {},
   "outputs": [],
   "source": [
    "from splinter import Browser\n",
    "from bs4 import BeautifulSoup\n",
    "\n",
    "browser=Browser('chrome')"
   ]
  },
  {
   "cell_type": "code",
   "execution_count": null,
   "id": "0224b239",
   "metadata": {},
   "outputs": [],
   "source": [
    "# Visit the URL\n",
    "\n",
    "# Parse the HTML\n"
   ]
  },
  {
   "cell_type": "code",
   "execution_count": null,
   "id": "22ee3c4f",
   "metadata": {},
   "outputs": [],
   "source": [
    "# Close the dialogue box"
   ]
  },
  {
   "cell_type": "code",
   "execution_count": null,
   "id": "1671c7ca",
   "metadata": {},
   "outputs": [],
   "source": [
    "# List to contain article info"
   ]
  },
  {
   "cell_type": "code",
   "execution_count": null,
   "id": "9d93861c",
   "metadata": {},
   "outputs": [],
   "source": [
    "# Create a function to perform the web scraping\n",
    "def get_summary():\n",
    "    # Collect the HTML from the browser\n",
    "\n",
    "    # Parse the HTML with Beautiful Soup\n",
    "\n",
    "    \n",
    "    # Save the main area of the web page to a variable\n",
    "\n",
    "    \n",
    "    # Find all the articles in the main area of the web page\n",
    "\n",
    "    \n",
    "    # Loop through the articles\n",
    "\n",
    "        # Collect the article title\n",
    "\n",
    "        # Collect the article date\n",
    "\n",
    "        # Remove the underscore from the date\n",
    "\n",
    "        \n",
    "        # Create the summary dictionary\n",
    "\n",
    "        # Append the summary dictionary to the list\n"
   ]
  },
  {
   "cell_type": "code",
   "execution_count": null,
   "id": "ccf1beae",
   "metadata": {},
   "outputs": [],
   "source": [
    "# Create a loop to collect the article summaries and click to the older article pages 5 times\n"
   ]
  },
  {
   "cell_type": "code",
   "execution_count": null,
   "id": "dbafe6cf",
   "metadata": {},
   "outputs": [],
   "source": [
    "# Print the articles list"
   ]
  },
  {
   "cell_type": "code",
   "execution_count": null,
   "id": "3c644062",
   "metadata": {},
   "outputs": [],
   "source": [
    "# Import Pandas\n",
    "\n",
    "# Convert the articles list to a Pandas DataFrame\n"
   ]
  },
  {
   "cell_type": "code",
   "execution_count": null,
   "id": "a12663f8",
   "metadata": {},
   "outputs": [],
   "source": [
    "# Convert the date column to a datetime data type"
   ]
  },
  {
   "cell_type": "code",
   "execution_count": null,
   "id": "676ba3d7",
   "metadata": {},
   "outputs": [],
   "source": [
    "# Display the DataFrame"
   ]
  },
  {
   "cell_type": "code",
   "execution_count": null,
   "id": "95d34de8",
   "metadata": {},
   "outputs": [],
   "source": [
    "# Check the DataFrame information to ensure the date is saved as a datetime data type"
   ]
  },
  {
   "cell_type": "code",
   "execution_count": null,
   "id": "9be67c96",
   "metadata": {},
   "outputs": [],
   "source": [
    "# Close the browser\n",
    "browser.quit()"
   ]
  }
 ],
 "metadata": {
  "kernelspec": {
   "display_name": "Python 3 (ipykernel)",
   "language": "python",
   "name": "python3"
  },
  "language_info": {
   "codemirror_mode": {
    "name": "ipython",
    "version": 3
   },
   "file_extension": ".py",
   "mimetype": "text/x-python",
   "name": "python",
   "nbconvert_exporter": "python",
   "pygments_lexer": "ipython3",
   "version": "3.8.13"
  }
 },
 "nbformat": 4,
 "nbformat_minor": 5
}
