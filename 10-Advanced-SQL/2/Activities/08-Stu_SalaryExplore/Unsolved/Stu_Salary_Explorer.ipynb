{
 "cells": [
  {
   "cell_type": "code",
   "execution_count": 2,
   "id": "political-saskatchewan",
   "metadata": {
    "collapsed": false
   },
   "outputs": [],
   "source": [
    "# import SQLAlchemy and inspect dependencies\n",
    "import sqlalchemy\n",
    "from sqlalchemy import create_engine, inspect\n",
    "\n",
    "# create engine for the employee_compensation.sqlite database\n",
    "\n",
    "database_path = \"employee_compensation.sqlite\"\n",
    "engine = create_engine(f\"sqlite:////{database_path}\")\n"
   ]
  },
  {
   "cell_type": "code",
   "execution_count": null,
   "id": "spread-stockholm",
   "metadata": {
    "collapsed": false
   },
   "outputs": [],
   "source": [
    "# create the inspector and connect to the engine\n",
    "\n"
   ]
  },
  {
   "cell_type": "code",
   "execution_count": null,
   "id": "abroad-rwanda",
   "metadata": {
    "collapsed": false
   },
   "outputs": [],
   "source": [
    "# collect the name of the tables within the database\n",
    "\n"
   ]
  },
  {
   "cell_type": "code",
   "execution_count": null,
   "id": "contrary-southeast",
   "metadata": {
    "collapsed": false
   },
   "outputs": [],
   "source": [
    "# Collect the names and data types for the employee_compensation table.\n",
    "\n"
   ]
  }
 ],
 "metadata": {
  "kernelspec": {
   "argv": [
    "/usr/bin/python3",
    "-m",
    "ipykernel_launcher",
    "-f",
    "{connection_file}"
   ],
   "display_name": "Python 3",
   "env": null,
   "interrupt_mode": "signal",
   "language": "python",
   "metadata": null,
   "name": "python3"
  },
  "name": "stu_salary_explore.ipynb"
 },
 "nbformat": 4,
 "nbformat_minor": 5
}
