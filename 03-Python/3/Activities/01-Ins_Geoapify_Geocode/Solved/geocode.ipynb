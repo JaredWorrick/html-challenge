{
 "cells": [
  {
   "cell_type": "markdown",
   "metadata": {},
   "source": [
    "# Geoapify Geocode Demo"
   ]
  },
  {
   "cell_type": "code",
   "execution_count": 1,
   "metadata": {},
   "outputs": [],
   "source": [
    "# Dependencies\n",
    "import requests\n",
    "import json\n",
    "\n",
    "# Import the API key\n",
    "from config import geoapify_key"
   ]
  },
  {
   "cell_type": "code",
   "execution_count": 2,
   "metadata": {},
   "outputs": [],
   "source": [
    "# Target city\n",
    "target_city = \"Sydney, Australia\"\n",
    "\n",
    "# Build the endpoint URL\n",
    "target_url = f\"https://api.geoapify.com/v1/geocode/search?text={target_city}&format=json&apiKey={geoapify_key}\""
   ]
  },
  {
   "cell_type": "code",
   "execution_count": 3,
   "metadata": {},
   "outputs": [
    {
     "data": {
      "text/plain": [
       "'https://api.geoapify.com/v1/geocode/search?text=Sydney, Australia&format=json&apiKey=7757f89767bc454db74be2b640389f77'"
      ]
     },
     "execution_count": 3,
     "metadata": {},
     "output_type": "execute_result"
    }
   ],
   "source": [
    "target_url"
   ]
  },
  {
   "cell_type": "code",
   "execution_count": 4,
   "metadata": {},
   "outputs": [
    {
     "name": "stdout",
     "output_type": "stream",
     "text": [
      "{'results': [{'datasource': {'sourcename': 'openstreetmap', 'attribution': '© OpenStreetMap contributors', 'license': 'Open Database License', 'url': 'https://www.openstreetmap.org/copyright'}, 'city': 'Sydney', 'state': 'New South Wales', 'country': 'Australia', 'country_code': 'au', 'lon': 151.2082848, 'lat': -33.8698439, 'state_code': 'NSW', 'formatted': 'Sydney, NSW, Australia', 'address_line1': 'Sydney', 'address_line2': 'NSW, Australia', 'category': 'administrative', 'timezone': {'name': 'Australia/Sydney', 'offset_STD': '+10:00', 'offset_STD_seconds': 36000, 'offset_DST': '+11:00', 'offset_DST_seconds': 39600, 'abbreviation_STD': 'AEST', 'abbreviation_DST': 'AEDT'}, 'result_type': 'city', 'rank': {'importance': 0.9445908962989684, 'popularity': 7.332617625087506, 'confidence': 1, 'confidence_city_level': 1, 'match_type': 'full_match'}, 'place_id': '512088e244aae662405903907f0b57ef40c0f00101f901f5bc570000000000c00208', 'bbox': {'lon1': 150.260825, 'lat1': -34.1732416, 'lon2': 151.343898, 'lat2': -33.3641864}}, {'datasource': {'sourcename': 'openstreetmap', 'attribution': '© OpenStreetMap contributors', 'license': 'Open Database License', 'url': 'https://www.openstreetmap.org/copyright'}, 'suburb': 'Sydney', 'city': 'Sydney', 'state': 'New South Wales', 'postcode': '2000', 'country': 'Australia', 'country_code': 'au', 'lon': 151.21014511728356, 'lat': -33.8681512, 'state_code': 'NSW', 'formatted': 'Sydney, NSW, Australia', 'address_line1': 'Sydney', 'address_line2': 'NSW, Australia', 'category': 'administrative', 'timezone': {'name': 'Australia/Sydney', 'offset_STD': '+10:00', 'offset_STD_seconds': 36000, 'offset_DST': '+11:00', 'offset_DST_seconds': 39600, 'abbreviation_STD': 'AEST', 'abbreviation_DST': 'AEDT'}, 'result_type': 'suburb', 'rank': {'importance': 0.6848447123160637, 'popularity': 7.332617625087506, 'confidence': 1, 'confidence_city_level': 1, 'match_type': 'full_match'}, 'place_id': '51b4c44082b9e6624059d8fd19941fef40c0f00101f901fe6c570000000000c00205', 'bbox': {'lon1': 151.1970047, 'lat1': -33.8797755, 'lon2': 151.223011, 'lat2': -33.8561096}}, {'datasource': {'sourcename': 'openstreetmap', 'attribution': '© OpenStreetMap contributors', 'license': 'Open Database License', 'url': 'https://www.openstreetmap.org/copyright'}, 'name': 'Sydney', 'housenumber': '3', 'street': 'Mooltan Avenue', 'suburb': 'Macquarie Park', 'city': 'Sydney', 'state': 'New South Wales', 'postcode': '2113', 'country': 'Australia', 'country_code': 'au', 'lon': 151.11329775343447, 'lat': -33.78094025, 'state_code': 'NSW', 'formatted': 'Sydney, 3 Mooltan Avenue, Macquarie Park NSW 2113, Australia', 'address_line1': 'Sydney', 'address_line2': '3 Mooltan Avenue, Macquarie Park NSW 2113, Australia', 'category': 'building.residential', 'timezone': {'name': 'Australia/Sydney', 'offset_STD': '+10:00', 'offset_STD_seconds': 36000, 'offset_DST': '+11:00', 'offset_DST_seconds': 39600, 'abbreviation_STD': 'AEST', 'abbreviation_DST': 'AEDT'}, 'result_type': 'amenity', 'rank': {'importance': 0.22100000000000003, 'popularity': 4.8706237351908195, 'confidence': 1, 'confidence_city_level': 1, 'match_type': 'inner_part'}, 'place_id': '51c3369c22a0e3624059a6f0a0d9f5e340c0f00102f901543cab3900000000c002019203065379646e6579', 'bbox': {'lon1': 151.1130421, 'lat1': -33.7811998, 'lon2': 151.1136129, 'lat2': -33.7807391}}, {'datasource': {'sourcename': 'openstreetmap', 'attribution': '© OpenStreetMap contributors', 'license': 'Open Database License', 'url': 'https://www.openstreetmap.org/copyright'}, 'city': 'Council of the City of Sydney', 'state': 'New South Wales', 'country': 'Australia', 'country_code': 'au', 'lon': 151.2048978618509, 'lat': -33.8888621, 'state_code': 'NSW', 'formatted': 'Council of the City of Sydney, NSW, Australia', 'address_line1': 'Council of the City of Sydney', 'address_line2': 'NSW, Australia', 'category': 'administrative', 'timezone': {'name': 'Australia/Sydney', 'offset_STD': '+10:00', 'offset_STD_seconds': 36000, 'offset_DST': '+11:00', 'offset_DST_seconds': 39600, 'abbreviation_STD': 'AEST', 'abbreviation_DST': 'AEDT'}, 'result_type': 'city', 'rank': {'importance': 0.6702672043141233, 'popularity': 6.340264879863925, 'confidence': 1, 'confidence_city_level': 1, 'match_type': 'full_match'}, 'place_id': '5170f5f5858ee6624059b213b93bc6f140c0f00101f901fa16130000000000c00208', 'bbox': {'lon1': 151.1748953, 'lat1': -33.9243832, 'lon2': 151.2330104, 'lat2': -33.8535199}}], 'query': {'text': 'Sydney, Australia', 'parsed': {'city': 'sydney', 'country': 'australia', 'expected_type': 'city'}}}\n"
     ]
    }
   ],
   "source": [
    "# Run a request to endpoint and convert result to json\n",
    "geo_data = requests.get(target_url).json()\n",
    "\n",
    "# Print the json\n",
    "print(geo_data)"
   ]
  },
  {
   "cell_type": "code",
   "execution_count": 5,
   "metadata": {},
   "outputs": [
    {
     "name": "stdout",
     "output_type": "stream",
     "text": [
      "{\n",
      "    \"query\": {\n",
      "        \"parsed\": {\n",
      "            \"city\": \"sydney\",\n",
      "            \"country\": \"australia\",\n",
      "            \"expected_type\": \"city\"\n",
      "        },\n",
      "        \"text\": \"Sydney, Australia\"\n",
      "    },\n",
      "    \"results\": [\n",
      "        {\n",
      "            \"address_line1\": \"Sydney\",\n",
      "            \"address_line2\": \"NSW, Australia\",\n",
      "            \"bbox\": {\n",
      "                \"lat1\": -34.1732416,\n",
      "                \"lat2\": -33.3641864,\n",
      "                \"lon1\": 150.260825,\n",
      "                \"lon2\": 151.343898\n",
      "            },\n",
      "            \"category\": \"administrative\",\n",
      "            \"city\": \"Sydney\",\n",
      "            \"country\": \"Australia\",\n",
      "            \"country_code\": \"au\",\n",
      "            \"datasource\": {\n",
      "                \"attribution\": \"\\u00a9 OpenStreetMap contributors\",\n",
      "                \"license\": \"Open Database License\",\n",
      "                \"sourcename\": \"openstreetmap\",\n",
      "                \"url\": \"https://www.openstreetmap.org/copyright\"\n",
      "            },\n",
      "            \"formatted\": \"Sydney, NSW, Australia\",\n",
      "            \"lat\": -33.8698439,\n",
      "            \"lon\": 151.2082848,\n",
      "            \"place_id\": \"512088e244aae662405903907f0b57ef40c0f00101f901f5bc570000000000c00208\",\n",
      "            \"rank\": {\n",
      "                \"confidence\": 1,\n",
      "                \"confidence_city_level\": 1,\n",
      "                \"importance\": 0.9445908962989684,\n",
      "                \"match_type\": \"full_match\",\n",
      "                \"popularity\": 7.332617625087506\n",
      "            },\n",
      "            \"result_type\": \"city\",\n",
      "            \"state\": \"New South Wales\",\n",
      "            \"state_code\": \"NSW\",\n",
      "            \"timezone\": {\n",
      "                \"abbreviation_DST\": \"AEDT\",\n",
      "                \"abbreviation_STD\": \"AEST\",\n",
      "                \"name\": \"Australia/Sydney\",\n",
      "                \"offset_DST\": \"+11:00\",\n",
      "                \"offset_DST_seconds\": 39600,\n",
      "                \"offset_STD\": \"+10:00\",\n",
      "                \"offset_STD_seconds\": 36000\n",
      "            }\n",
      "        },\n",
      "        {\n",
      "            \"address_line1\": \"Sydney\",\n",
      "            \"address_line2\": \"NSW, Australia\",\n",
      "            \"bbox\": {\n",
      "                \"lat1\": -33.8797755,\n",
      "                \"lat2\": -33.8561096,\n",
      "                \"lon1\": 151.1970047,\n",
      "                \"lon2\": 151.223011\n",
      "            },\n",
      "            \"category\": \"administrative\",\n",
      "            \"city\": \"Sydney\",\n",
      "            \"country\": \"Australia\",\n",
      "            \"country_code\": \"au\",\n",
      "            \"datasource\": {\n",
      "                \"attribution\": \"\\u00a9 OpenStreetMap contributors\",\n",
      "                \"license\": \"Open Database License\",\n",
      "                \"sourcename\": \"openstreetmap\",\n",
      "                \"url\": \"https://www.openstreetmap.org/copyright\"\n",
      "            },\n",
      "            \"formatted\": \"Sydney, NSW, Australia\",\n",
      "            \"lat\": -33.8681512,\n",
      "            \"lon\": 151.21014511728356,\n",
      "            \"place_id\": \"51b4c44082b9e6624059d8fd19941fef40c0f00101f901fe6c570000000000c00205\",\n",
      "            \"postcode\": \"2000\",\n",
      "            \"rank\": {\n",
      "                \"confidence\": 1,\n",
      "                \"confidence_city_level\": 1,\n",
      "                \"importance\": 0.6848447123160637,\n",
      "                \"match_type\": \"full_match\",\n",
      "                \"popularity\": 7.332617625087506\n",
      "            },\n",
      "            \"result_type\": \"suburb\",\n",
      "            \"state\": \"New South Wales\",\n",
      "            \"state_code\": \"NSW\",\n",
      "            \"suburb\": \"Sydney\",\n",
      "            \"timezone\": {\n",
      "                \"abbreviation_DST\": \"AEDT\",\n",
      "                \"abbreviation_STD\": \"AEST\",\n",
      "                \"name\": \"Australia/Sydney\",\n",
      "                \"offset_DST\": \"+11:00\",\n",
      "                \"offset_DST_seconds\": 39600,\n",
      "                \"offset_STD\": \"+10:00\",\n",
      "                \"offset_STD_seconds\": 36000\n",
      "            }\n",
      "        },\n",
      "        {\n",
      "            \"address_line1\": \"Sydney\",\n",
      "            \"address_line2\": \"3 Mooltan Avenue, Macquarie Park NSW 2113, Australia\",\n",
      "            \"bbox\": {\n",
      "                \"lat1\": -33.7811998,\n",
      "                \"lat2\": -33.7807391,\n",
      "                \"lon1\": 151.1130421,\n",
      "                \"lon2\": 151.1136129\n",
      "            },\n",
      "            \"category\": \"building.residential\",\n",
      "            \"city\": \"Sydney\",\n",
      "            \"country\": \"Australia\",\n",
      "            \"country_code\": \"au\",\n",
      "            \"datasource\": {\n",
      "                \"attribution\": \"\\u00a9 OpenStreetMap contributors\",\n",
      "                \"license\": \"Open Database License\",\n",
      "                \"sourcename\": \"openstreetmap\",\n",
      "                \"url\": \"https://www.openstreetmap.org/copyright\"\n",
      "            },\n",
      "            \"formatted\": \"Sydney, 3 Mooltan Avenue, Macquarie Park NSW 2113, Australia\",\n",
      "            \"housenumber\": \"3\",\n",
      "            \"lat\": -33.78094025,\n",
      "            \"lon\": 151.11329775343447,\n",
      "            \"name\": \"Sydney\",\n",
      "            \"place_id\": \"51c3369c22a0e3624059a6f0a0d9f5e340c0f00102f901543cab3900000000c002019203065379646e6579\",\n",
      "            \"postcode\": \"2113\",\n",
      "            \"rank\": {\n",
      "                \"confidence\": 1,\n",
      "                \"confidence_city_level\": 1,\n",
      "                \"importance\": 0.22100000000000003,\n",
      "                \"match_type\": \"inner_part\",\n",
      "                \"popularity\": 4.8706237351908195\n",
      "            },\n",
      "            \"result_type\": \"amenity\",\n",
      "            \"state\": \"New South Wales\",\n",
      "            \"state_code\": \"NSW\",\n",
      "            \"street\": \"Mooltan Avenue\",\n",
      "            \"suburb\": \"Macquarie Park\",\n",
      "            \"timezone\": {\n",
      "                \"abbreviation_DST\": \"AEDT\",\n",
      "                \"abbreviation_STD\": \"AEST\",\n",
      "                \"name\": \"Australia/Sydney\",\n",
      "                \"offset_DST\": \"+11:00\",\n",
      "                \"offset_DST_seconds\": 39600,\n",
      "                \"offset_STD\": \"+10:00\",\n",
      "                \"offset_STD_seconds\": 36000\n",
      "            }\n",
      "        },\n",
      "        {\n",
      "            \"address_line1\": \"Council of the City of Sydney\",\n",
      "            \"address_line2\": \"NSW, Australia\",\n",
      "            \"bbox\": {\n",
      "                \"lat1\": -33.9243832,\n",
      "                \"lat2\": -33.8535199,\n",
      "                \"lon1\": 151.1748953,\n",
      "                \"lon2\": 151.2330104\n",
      "            },\n",
      "            \"category\": \"administrative\",\n",
      "            \"city\": \"Council of the City of Sydney\",\n",
      "            \"country\": \"Australia\",\n",
      "            \"country_code\": \"au\",\n",
      "            \"datasource\": {\n",
      "                \"attribution\": \"\\u00a9 OpenStreetMap contributors\",\n",
      "                \"license\": \"Open Database License\",\n",
      "                \"sourcename\": \"openstreetmap\",\n",
      "                \"url\": \"https://www.openstreetmap.org/copyright\"\n",
      "            },\n",
      "            \"formatted\": \"Council of the City of Sydney, NSW, Australia\",\n",
      "            \"lat\": -33.8888621,\n",
      "            \"lon\": 151.2048978618509,\n",
      "            \"place_id\": \"5170f5f5858ee6624059b213b93bc6f140c0f00101f901fa16130000000000c00208\",\n",
      "            \"rank\": {\n",
      "                \"confidence\": 1,\n",
      "                \"confidence_city_level\": 1,\n",
      "                \"importance\": 0.6702672043141233,\n",
      "                \"match_type\": \"full_match\",\n",
      "                \"popularity\": 6.340264879863925\n",
      "            },\n",
      "            \"result_type\": \"city\",\n",
      "            \"state\": \"New South Wales\",\n",
      "            \"state_code\": \"NSW\",\n",
      "            \"timezone\": {\n",
      "                \"abbreviation_DST\": \"AEDT\",\n",
      "                \"abbreviation_STD\": \"AEST\",\n",
      "                \"name\": \"Australia/Sydney\",\n",
      "                \"offset_DST\": \"+11:00\",\n",
      "                \"offset_DST_seconds\": 39600,\n",
      "                \"offset_STD\": \"+10:00\",\n",
      "                \"offset_STD_seconds\": 36000\n",
      "            }\n",
      "        }\n",
      "    ]\n",
      "}\n"
     ]
    }
   ],
   "source": [
    "# Print the json (pretty printed)\n",
    "print(json.dumps(geo_data, indent=4, sort_keys=True))"
   ]
  },
  {
   "cell_type": "code",
   "execution_count": 6,
   "metadata": {},
   "outputs": [
    {
     "name": "stdout",
     "output_type": "stream",
     "text": [
      "\n",
      "    City: Sydney, Australia\n",
      "    Latitude: -33.8698439\n",
      "    Longitude: 151.2082848\n",
      "    \n"
     ]
    }
   ],
   "source": [
    "# Extract latitude and longitude\n",
    "lat = geo_data[\"results\"][0][\"lat\"]\n",
    "lon = geo_data[\"results\"][0][\"lon\"]\n",
    "\n",
    "# Print the latitude and longitude\n",
    "print('''\n",
    "    City: {0}\n",
    "    Latitude: {1}\n",
    "    Longitude: {2}\n",
    "    '''.format(target_city, lat, lon))"
   ]
  },
  {
   "cell_type": "code",
   "execution_count": null,
   "metadata": {},
   "outputs": [],
   "source": []
  }
 ],
 "metadata": {
  "anaconda-cloud": {},
  "kernelspec": {
   "display_name": "Python 3",
   "language": "python",
   "name": "python3"
  },
  "language_info": {
   "codemirror_mode": {
    "name": "ipython",
    "version": 3
   },
   "file_extension": ".py",
   "mimetype": "text/x-python",
   "name": "python",
   "nbconvert_exporter": "python",
   "pygments_lexer": "ipython3",
   "version": "3.8.8"
  }
 },
 "nbformat": 4,
 "nbformat_minor": 4
}
