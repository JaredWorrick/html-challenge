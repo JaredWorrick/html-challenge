{
 "cells": [
  {
   "cell_type": "code",
   "execution_count": null,
   "id": "4fc698cb",
   "metadata": {},
   "outputs": [],
   "source": [
    "# Import dependencies\n",
    "from pymongo import MongoClient\n",
    "from pprint import pprint\n",
    "import pandas as pd"
   ]
  },
  {
   "cell_type": "code",
   "execution_count": null,
   "id": "37a20efa",
   "metadata": {},
   "outputs": [],
   "source": [
    "# Create an instance of MongoClient\n",
    "mongo = MongoClient(port=27017)\n",
    "\n",
    "# assign the met database to a variable name\n",
    "db = mongo['met']\n",
    "\n",
    "# assign the collection to a variable\n",
    "artifacts = db['artifacts']"
   ]
  },
  {
   "cell_type": "code",
   "execution_count": null,
   "id": "14a0d5da",
   "metadata": {},
   "outputs": [],
   "source": [
    "# Build the aggregation pipeline\n",
    "# Write a match query to find only the documents about artifacts that\n",
    "# have a classification where \"Wood\" is the value.\n",
    "match_query = \n",
    "\n",
    "# Write an aggregation query that counts the number of documents and finds the maximum height,\n",
    "# grouped by \"classification\"\n",
    "group_query = \n",
    "\n",
    "# Create a dictionary that will allow the pipeline to sort by count in descending order, \n",
    "# then sort by classification in alphabetical order\n",
    "sort_values = \n",
    "\n",
    "# Put the pipeline together\n",
    "pipeline = "
   ]
  },
  {
   "cell_type": "code",
   "execution_count": null,
   "id": "47fee16a",
   "metadata": {},
   "outputs": [],
   "source": [
    "# Run the pipeline through the aggregate method and save the results to a variable\n"
   ]
  },
  {
   "cell_type": "code",
   "execution_count": null,
   "id": "500b184f",
   "metadata": {},
   "outputs": [],
   "source": [
    "# Print the number of classifications in the result\n"
   ]
  },
  {
   "cell_type": "code",
   "execution_count": null,
   "id": "7688f214",
   "metadata": {},
   "outputs": [],
   "source": [
    "# Print the first 10 results\n"
   ]
  },
  {
   "cell_type": "code",
   "execution_count": null,
   "id": "02529d41",
   "metadata": {},
   "outputs": [],
   "source": [
    "# Convert mongo result to Pandas DataFrame\n",
    "\n",
    "\n",
    "# Display the first 10 rows of the DataFrame\n"
   ]
  }
 ],
 "metadata": {
  "kernelspec": {
   "display_name": "Python 3",
   "language": "python",
   "name": "python3"
  },
  "language_info": {
   "codemirror_mode": {
    "name": "ipython",
    "version": 3
   },
   "file_extension": ".py",
   "mimetype": "text/x-python",
   "name": "python",
   "nbconvert_exporter": "python",
   "pygments_lexer": "ipython3",
   "version": "3.8.8"
  }
 },
 "nbformat": 4,
 "nbformat_minor": 5
}
