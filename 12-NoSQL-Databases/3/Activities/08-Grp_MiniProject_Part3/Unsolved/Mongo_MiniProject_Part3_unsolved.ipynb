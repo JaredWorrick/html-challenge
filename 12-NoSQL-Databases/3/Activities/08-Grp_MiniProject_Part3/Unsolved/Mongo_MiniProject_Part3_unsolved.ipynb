{
 "cells": [
  {
   "cell_type": "code",
   "execution_count": 1,
   "id": "fd20c880",
   "metadata": {},
   "outputs": [],
   "source": [
    "# Import dependencies\n",
    "from pymongo import MongoClient\n",
    "from pprint import pprint\n",
    "import pandas as pd\n",
    "import matplotlib.pyplot as plt"
   ]
  },
  {
   "cell_type": "code",
   "execution_count": 2,
   "id": "095596e8",
   "metadata": {},
   "outputs": [],
   "source": [
    "# Create an instance of MongoClient\n",
    "mongo = MongoClient(port=27017)\n",
    "\n",
    "# assign the met database to a variable name\n",
    "db = mongo['met']\n",
    "\n",
    "# assign the collection to a variable\n",
    "artifacts = db['artifacts']"
   ]
  },
  {
   "cell_type": "code",
   "execution_count": 3,
   "id": "07e31115",
   "metadata": {},
   "outputs": [],
   "source": [
    "# Build the aggregation pipeline\n",
    "\n",
    "# Write an aggregation query that counts the number of documents, grouped by \"Country\", then \"classification\"\n",
    "group_query = {'$group': {'_id': {\"country\": \"$country\",\n",
    "                                  \"classification\": \"$classification\"}, \n",
    "                          'count': { '$sum': 1 }\n",
    "                         }\n",
    "              }\n",
    "\n",
    "# Create a match query that matches only the rows that have 5 or more documents in 'count'\n",
    "match_query = {'$match': {'count': {'$gte': 5}}}\n",
    "\n",
    "# Create a dictionary that will allow the pipeline to sort by country in alphabetical order, \n",
    "# then count in descending order\n",
    "sort_values = {'$sort': { '_id.country': 1, 'count': -1 }}\n",
    "\n",
    "# Put the pipeline together\n",
    "pipeline = [group_query, match_query, sort_values]"
   ]
  },
  {
   "cell_type": "code",
   "execution_count": 4,
   "id": "56002501",
   "metadata": {},
   "outputs": [],
   "source": [
    "# Run the pipeline through the aggregate method, cast the results as a list, and save the results to a variable\n",
    "results = list(artifacts.aggregate(pipeline))"
   ]
  },
  {
   "cell_type": "code",
   "execution_count": 5,
   "id": "fd7d9093",
   "metadata": {},
   "outputs": [
    {
     "name": "stdout",
     "output_type": "stream",
     "text": [
      "Number of rows in result:  46\n"
     ]
    }
   ],
   "source": [
    "# Print the number of rows in the result\n",
    "print(\"Number of rows in result: \", len(results))"
   ]
  },
  {
   "cell_type": "code",
   "execution_count": 6,
   "id": "2397881c",
   "metadata": {},
   "outputs": [
    {
     "name": "stdout",
     "output_type": "stream",
     "text": [
      "{'_id': {'classification': 'Bark-Paintings', 'country': 'Australia'},\n",
      " 'count': 6}\n",
      "{'_id': {'classification': 'Wood-Sculpture', 'country': 'Burkina Faso'},\n",
      " 'count': 18}\n",
      "{'_id': {'classification': 'Wood-Sculpture', 'country': 'Cameroon'},\n",
      " 'count': 10}\n",
      "{'_id': {'classification': 'Bone/Ivory-Sculpture', 'country': 'Canada'},\n",
      " 'count': 16}\n",
      "{'_id': {'classification': 'Stone-Sculpture', 'country': 'Canada'}, 'count': 11}\n",
      "{'_id': {'classification': 'Metal-Ornaments', 'country': 'Colombia'},\n",
      " 'count': 22}\n",
      "{'_id': {'classification': 'Metal-Ornaments', 'country': 'Costa Rica'},\n",
      " 'count': 7}\n",
      "{'_id': {'classification': 'Stone-Ornaments', 'country': 'Costa Rica'},\n",
      " 'count': 5}\n",
      "{'_id': {'classification': 'Metal-Ornaments',\n",
      "         'country': 'Costa Rica or Panama'},\n",
      " 'count': 10}\n",
      "{'_id': {'classification': 'Wood-Sculpture', 'country': \"Côte d'Ivoire\"},\n",
      " 'count': 34}\n"
     ]
    }
   ],
   "source": [
    "# Print the first 10 results\n",
    "for i in range(10):\n",
    "    pprint(results[i])"
   ]
  },
  {
   "cell_type": "code",
   "execution_count": 7,
   "id": "70b1dcec",
   "metadata": {},
   "outputs": [
    {
     "data": {
      "text/html": [
       "<div>\n",
       "<style scoped>\n",
       "    .dataframe tbody tr th:only-of-type {\n",
       "        vertical-align: middle;\n",
       "    }\n",
       "\n",
       "    .dataframe tbody tr th {\n",
       "        vertical-align: top;\n",
       "    }\n",
       "\n",
       "    .dataframe thead th {\n",
       "        text-align: right;\n",
       "    }\n",
       "</style>\n",
       "<table border=\"1\" class=\"dataframe\">\n",
       "  <thead>\n",
       "    <tr style=\"text-align: right;\">\n",
       "      <th></th>\n",
       "      <th>count</th>\n",
       "      <th>_id.country</th>\n",
       "      <th>_id.classification</th>\n",
       "    </tr>\n",
       "  </thead>\n",
       "  <tbody>\n",
       "    <tr>\n",
       "      <th>0</th>\n",
       "      <td>6</td>\n",
       "      <td>Australia</td>\n",
       "      <td>Bark-Paintings</td>\n",
       "    </tr>\n",
       "    <tr>\n",
       "      <th>1</th>\n",
       "      <td>18</td>\n",
       "      <td>Burkina Faso</td>\n",
       "      <td>Wood-Sculpture</td>\n",
       "    </tr>\n",
       "    <tr>\n",
       "      <th>2</th>\n",
       "      <td>10</td>\n",
       "      <td>Cameroon</td>\n",
       "      <td>Wood-Sculpture</td>\n",
       "    </tr>\n",
       "    <tr>\n",
       "      <th>3</th>\n",
       "      <td>16</td>\n",
       "      <td>Canada</td>\n",
       "      <td>Bone/Ivory-Sculpture</td>\n",
       "    </tr>\n",
       "    <tr>\n",
       "      <th>4</th>\n",
       "      <td>11</td>\n",
       "      <td>Canada</td>\n",
       "      <td>Stone-Sculpture</td>\n",
       "    </tr>\n",
       "  </tbody>\n",
       "</table>\n",
       "</div>"
      ],
      "text/plain": [
       "   count   _id.country    _id.classification\n",
       "0      6     Australia        Bark-Paintings\n",
       "1     18  Burkina Faso        Wood-Sculpture\n",
       "2     10      Cameroon        Wood-Sculpture\n",
       "3     16        Canada  Bone/Ivory-Sculpture\n",
       "4     11        Canada       Stone-Sculpture"
      ]
     },
     "execution_count": 7,
     "metadata": {},
     "output_type": "execute_result"
    }
   ],
   "source": [
    "# Extract the fields from the _id so they're in separate columns in a Pandas DataFrame\n",
    "aggregated_df = pd.json_normalize(results)\n",
    "aggregated_df.head()"
   ]
  },
  {
   "cell_type": "code",
   "execution_count": 8,
   "id": "376e9f8c",
   "metadata": {},
   "outputs": [
    {
     "data": {
      "text/html": [
       "<div>\n",
       "<style scoped>\n",
       "    .dataframe tbody tr th:only-of-type {\n",
       "        vertical-align: middle;\n",
       "    }\n",
       "\n",
       "    .dataframe tbody tr th {\n",
       "        vertical-align: top;\n",
       "    }\n",
       "\n",
       "    .dataframe thead th {\n",
       "        text-align: right;\n",
       "    }\n",
       "</style>\n",
       "<table border=\"1\" class=\"dataframe\">\n",
       "  <thead>\n",
       "    <tr style=\"text-align: right;\">\n",
       "      <th></th>\n",
       "      <th>number of artifacts</th>\n",
       "      <th>country</th>\n",
       "      <th>classification</th>\n",
       "    </tr>\n",
       "  </thead>\n",
       "  <tbody>\n",
       "    <tr>\n",
       "      <th>0</th>\n",
       "      <td>6</td>\n",
       "      <td>Australia</td>\n",
       "      <td>Bark-Paintings</td>\n",
       "    </tr>\n",
       "    <tr>\n",
       "      <th>1</th>\n",
       "      <td>18</td>\n",
       "      <td>Burkina Faso</td>\n",
       "      <td>Wood-Sculpture</td>\n",
       "    </tr>\n",
       "    <tr>\n",
       "      <th>2</th>\n",
       "      <td>10</td>\n",
       "      <td>Cameroon</td>\n",
       "      <td>Wood-Sculpture</td>\n",
       "    </tr>\n",
       "    <tr>\n",
       "      <th>3</th>\n",
       "      <td>16</td>\n",
       "      <td>Canada</td>\n",
       "      <td>Bone/Ivory-Sculpture</td>\n",
       "    </tr>\n",
       "    <tr>\n",
       "      <th>4</th>\n",
       "      <td>11</td>\n",
       "      <td>Canada</td>\n",
       "      <td>Stone-Sculpture</td>\n",
       "    </tr>\n",
       "  </tbody>\n",
       "</table>\n",
       "</div>"
      ],
      "text/plain": [
       "   number of artifacts       country        classification\n",
       "0                    6     Australia        Bark-Paintings\n",
       "1                   18  Burkina Faso        Wood-Sculpture\n",
       "2                   10      Cameroon        Wood-Sculpture\n",
       "3                   16        Canada  Bone/Ivory-Sculpture\n",
       "4                   11        Canada       Stone-Sculpture"
      ]
     },
     "execution_count": 8,
     "metadata": {},
     "output_type": "execute_result"
    }
   ],
   "source": [
    "# Rename the columns\n",
    "aggregated_df = aggregated_df.rename(columns={\"count\": \"number of artifacts\",\n",
    "                                              \"_id.classification\": \"classification\",\n",
    "                                              \"_id.country\": \"country\"})\n",
    "aggregated_df.head()"
   ]
  },
  {
   "cell_type": "code",
   "execution_count": 9,
   "id": "7c8f7035",
   "metadata": {},
   "outputs": [
    {
     "data": {
      "text/html": [
       "<div>\n",
       "<style scoped>\n",
       "    .dataframe tbody tr th:only-of-type {\n",
       "        vertical-align: middle;\n",
       "    }\n",
       "\n",
       "    .dataframe tbody tr th {\n",
       "        vertical-align: top;\n",
       "    }\n",
       "\n",
       "    .dataframe thead th {\n",
       "        text-align: right;\n",
       "    }\n",
       "</style>\n",
       "<table border=\"1\" class=\"dataframe\">\n",
       "  <thead>\n",
       "    <tr style=\"text-align: right;\">\n",
       "      <th></th>\n",
       "      <th>country</th>\n",
       "      <th>classification</th>\n",
       "      <th>number of artifacts</th>\n",
       "    </tr>\n",
       "  </thead>\n",
       "  <tbody>\n",
       "    <tr>\n",
       "      <th>0</th>\n",
       "      <td>Australia</td>\n",
       "      <td>Bark-Paintings</td>\n",
       "      <td>6</td>\n",
       "    </tr>\n",
       "    <tr>\n",
       "      <th>1</th>\n",
       "      <td>Burkina Faso</td>\n",
       "      <td>Wood-Sculpture</td>\n",
       "      <td>18</td>\n",
       "    </tr>\n",
       "    <tr>\n",
       "      <th>2</th>\n",
       "      <td>Cameroon</td>\n",
       "      <td>Wood-Sculpture</td>\n",
       "      <td>10</td>\n",
       "    </tr>\n",
       "    <tr>\n",
       "      <th>3</th>\n",
       "      <td>Canada</td>\n",
       "      <td>Bone/Ivory-Sculpture</td>\n",
       "      <td>16</td>\n",
       "    </tr>\n",
       "    <tr>\n",
       "      <th>4</th>\n",
       "      <td>Canada</td>\n",
       "      <td>Stone-Sculpture</td>\n",
       "      <td>11</td>\n",
       "    </tr>\n",
       "    <tr>\n",
       "      <th>5</th>\n",
       "      <td>Colombia</td>\n",
       "      <td>Metal-Ornaments</td>\n",
       "      <td>22</td>\n",
       "    </tr>\n",
       "    <tr>\n",
       "      <th>6</th>\n",
       "      <td>Costa Rica</td>\n",
       "      <td>Metal-Ornaments</td>\n",
       "      <td>7</td>\n",
       "    </tr>\n",
       "    <tr>\n",
       "      <th>7</th>\n",
       "      <td>Costa Rica</td>\n",
       "      <td>Stone-Ornaments</td>\n",
       "      <td>5</td>\n",
       "    </tr>\n",
       "    <tr>\n",
       "      <th>8</th>\n",
       "      <td>Costa Rica or Panama</td>\n",
       "      <td>Metal-Ornaments</td>\n",
       "      <td>10</td>\n",
       "    </tr>\n",
       "    <tr>\n",
       "      <th>9</th>\n",
       "      <td>Côte d'Ivoire</td>\n",
       "      <td>Wood-Sculpture</td>\n",
       "      <td>34</td>\n",
       "    </tr>\n",
       "  </tbody>\n",
       "</table>\n",
       "</div>"
      ],
      "text/plain": [
       "                country        classification  number of artifacts\n",
       "0             Australia        Bark-Paintings                    6\n",
       "1          Burkina Faso        Wood-Sculpture                   18\n",
       "2              Cameroon        Wood-Sculpture                   10\n",
       "3                Canada  Bone/Ivory-Sculpture                   16\n",
       "4                Canada       Stone-Sculpture                   11\n",
       "5              Colombia       Metal-Ornaments                   22\n",
       "6            Costa Rica       Metal-Ornaments                    7\n",
       "7            Costa Rica       Stone-Ornaments                    5\n",
       "8  Costa Rica or Panama       Metal-Ornaments                   10\n",
       "9         Côte d'Ivoire        Wood-Sculpture                   34"
      ]
     },
     "execution_count": 9,
     "metadata": {},
     "output_type": "execute_result"
    }
   ],
   "source": [
    "# Reorder the columns\n",
    "aggregated_df = aggregated_df[[\"country\", \"classification\", \"number of artifacts\"]]\n",
    "\n",
    "# Print the first 10 rows of the DataFrame\n",
    "aggregated_df.head(10)"
   ]
  },
  {
   "cell_type": "code",
   "execution_count": 10,
   "id": "71766112",
   "metadata": {},
   "outputs": [
    {
     "data": {
      "text/plain": [
       "array(['Australia', 'Burkina Faso', 'Cameroon', 'Canada', 'Colombia',\n",
       "       'Costa Rica', 'Costa Rica or Panama', \"Côte d'Ivoire\",\n",
       "       'Democratic Republic of the Congo',\n",
       "       'Ecuador, Peru, Bolivia, Chile, or Argentina', 'Indonesia',\n",
       "       'Liberia', 'Mali', 'Mexico', 'Nigeria', 'Panama',\n",
       "       'Papua New Guinea', 'Peru', 'United States', 'Western Australia'],\n",
       "      dtype=object)"
      ]
     },
     "execution_count": 10,
     "metadata": {},
     "output_type": "execute_result"
    }
   ],
   "source": [
    "# Print out the unique countries\n"
   ]
  },
  {
   "cell_type": "code",
   "execution_count": 11,
   "id": "9a972a5f",
   "metadata": {},
   "outputs": [
    {
     "data": {
      "text/plain": [
       "array(['Bark-Paintings', 'Wood-Sculpture', 'Bone/Ivory-Sculpture',\n",
       "       'Stone-Sculpture', 'Metal-Ornaments', 'Stone-Ornaments',\n",
       "       'Wood-Implements', 'Bone/Ivory-Ornaments', 'Sculpture-Sheet metal',\n",
       "       'Textiles', 'Textiles-Woven', 'Bone/Ivory-Implements',\n",
       "       'Ceramics-Containers', 'Wood-Architectural', 'Ceramics-Sculpture',\n",
       "       'Ceramics-Implements', 'Bone/Ivory-Musical Instruments',\n",
       "       'Bone/Ivory-Containers', 'Metal-Sculpture', 'Metal-Implements',\n",
       "       'Shell-Ornaments', 'Shell'], dtype=object)"
      ]
     },
     "execution_count": 11,
     "metadata": {},
     "output_type": "execute_result"
    }
   ],
   "source": [
    "# Print out the unique classifications\n"
   ]
  },
  {
   "cell_type": "code",
   "execution_count": 12,
   "id": "cb58729d",
   "metadata": {},
   "outputs": [
    {
     "data": {
      "text/html": [
       "<div>\n",
       "<style scoped>\n",
       "    .dataframe tbody tr th:only-of-type {\n",
       "        vertical-align: middle;\n",
       "    }\n",
       "\n",
       "    .dataframe tbody tr th {\n",
       "        vertical-align: top;\n",
       "    }\n",
       "\n",
       "    .dataframe thead th {\n",
       "        text-align: right;\n",
       "    }\n",
       "</style>\n",
       "<table border=\"1\" class=\"dataframe\">\n",
       "  <thead>\n",
       "    <tr style=\"text-align: right;\">\n",
       "      <th></th>\n",
       "      <th>classification</th>\n",
       "    </tr>\n",
       "    <tr>\n",
       "      <th>country</th>\n",
       "      <th></th>\n",
       "    </tr>\n",
       "  </thead>\n",
       "  <tbody>\n",
       "    <tr>\n",
       "      <th>Indonesia</th>\n",
       "      <td>6</td>\n",
       "    </tr>\n",
       "    <tr>\n",
       "      <th>Nigeria</th>\n",
       "      <td>6</td>\n",
       "    </tr>\n",
       "    <tr>\n",
       "      <th>United States</th>\n",
       "      <td>5</td>\n",
       "    </tr>\n",
       "    <tr>\n",
       "      <th>Peru</th>\n",
       "      <td>4</td>\n",
       "    </tr>\n",
       "    <tr>\n",
       "      <th>Mexico</th>\n",
       "      <td>4</td>\n",
       "    </tr>\n",
       "    <tr>\n",
       "      <th>Democratic Republic of the Congo</th>\n",
       "      <td>3</td>\n",
       "    </tr>\n",
       "    <tr>\n",
       "      <th>Canada</th>\n",
       "      <td>2</td>\n",
       "    </tr>\n",
       "    <tr>\n",
       "      <th>Costa Rica</th>\n",
       "      <td>2</td>\n",
       "    </tr>\n",
       "    <tr>\n",
       "      <th>Papua New Guinea</th>\n",
       "      <td>2</td>\n",
       "    </tr>\n",
       "    <tr>\n",
       "      <th>Côte d'Ivoire</th>\n",
       "      <td>2</td>\n",
       "    </tr>\n",
       "    <tr>\n",
       "      <th>Mali</th>\n",
       "      <td>1</td>\n",
       "    </tr>\n",
       "    <tr>\n",
       "      <th>Panama</th>\n",
       "      <td>1</td>\n",
       "    </tr>\n",
       "    <tr>\n",
       "      <th>Australia</th>\n",
       "      <td>1</td>\n",
       "    </tr>\n",
       "    <tr>\n",
       "      <th>Liberia</th>\n",
       "      <td>1</td>\n",
       "    </tr>\n",
       "    <tr>\n",
       "      <th>Burkina Faso</th>\n",
       "      <td>1</td>\n",
       "    </tr>\n",
       "    <tr>\n",
       "      <th>Ecuador, Peru, Bolivia, Chile, or Argentina</th>\n",
       "      <td>1</td>\n",
       "    </tr>\n",
       "    <tr>\n",
       "      <th>Costa Rica or Panama</th>\n",
       "      <td>1</td>\n",
       "    </tr>\n",
       "    <tr>\n",
       "      <th>Colombia</th>\n",
       "      <td>1</td>\n",
       "    </tr>\n",
       "    <tr>\n",
       "      <th>Cameroon</th>\n",
       "      <td>1</td>\n",
       "    </tr>\n",
       "    <tr>\n",
       "      <th>Western Australia</th>\n",
       "      <td>1</td>\n",
       "    </tr>\n",
       "  </tbody>\n",
       "</table>\n",
       "</div>"
      ],
      "text/plain": [
       "                                             classification\n",
       "country                                                    \n",
       "Indonesia                                                 6\n",
       "Nigeria                                                   6\n",
       "United States                                             5\n",
       "Peru                                                      4\n",
       "Mexico                                                    4\n",
       "Democratic Republic of the Congo                          3\n",
       "Canada                                                    2\n",
       "Costa Rica                                                2\n",
       "Papua New Guinea                                          2\n",
       "Côte d'Ivoire                                             2\n",
       "Mali                                                      1\n",
       "Panama                                                    1\n",
       "Australia                                                 1\n",
       "Liberia                                                   1\n",
       "Burkina Faso                                              1\n",
       "Ecuador, Peru, Bolivia, Chile, or Argentina               1\n",
       "Costa Rica or Panama                                      1\n",
       "Colombia                                                  1\n",
       "Cameroon                                                  1\n",
       "Western Australia                                         1"
      ]
     },
     "execution_count": 12,
     "metadata": {},
     "output_type": "execute_result"
    }
   ],
   "source": [
    "# Find out which countries have the most classifications\n",
    "# Create a DataFrame that groups by country\n",
    "\n",
    "\n",
    "# Print the DataFrame, sorted in descending order on classification\n"
   ]
  },
  {
   "cell_type": "code",
   "execution_count": 13,
   "id": "a07f5fb6",
   "metadata": {},
   "outputs": [
    {
     "data": {
      "text/html": [
       "<div>\n",
       "<style scoped>\n",
       "    .dataframe tbody tr th:only-of-type {\n",
       "        vertical-align: middle;\n",
       "    }\n",
       "\n",
       "    .dataframe tbody tr th {\n",
       "        vertical-align: top;\n",
       "    }\n",
       "\n",
       "    .dataframe thead th {\n",
       "        text-align: right;\n",
       "    }\n",
       "</style>\n",
       "<table border=\"1\" class=\"dataframe\">\n",
       "  <thead>\n",
       "    <tr style=\"text-align: right;\">\n",
       "      <th></th>\n",
       "      <th>classification</th>\n",
       "      <th>number of artifacts</th>\n",
       "    </tr>\n",
       "  </thead>\n",
       "  <tbody>\n",
       "    <tr>\n",
       "      <th>15</th>\n",
       "      <td>Wood-Sculpture</td>\n",
       "      <td>14</td>\n",
       "    </tr>\n",
       "    <tr>\n",
       "      <th>16</th>\n",
       "      <td>Textiles</td>\n",
       "      <td>13</td>\n",
       "    </tr>\n",
       "    <tr>\n",
       "      <th>17</th>\n",
       "      <td>Textiles-Woven</td>\n",
       "      <td>12</td>\n",
       "    </tr>\n",
       "    <tr>\n",
       "      <th>18</th>\n",
       "      <td>Bone/Ivory-Implements</td>\n",
       "      <td>7</td>\n",
       "    </tr>\n",
       "    <tr>\n",
       "      <th>19</th>\n",
       "      <td>Ceramics-Containers</td>\n",
       "      <td>6</td>\n",
       "    </tr>\n",
       "    <tr>\n",
       "      <th>20</th>\n",
       "      <td>Wood-Architectural</td>\n",
       "      <td>5</td>\n",
       "    </tr>\n",
       "  </tbody>\n",
       "</table>\n",
       "</div>"
      ],
      "text/plain": [
       "           classification  number of artifacts\n",
       "15         Wood-Sculpture                   14\n",
       "16               Textiles                   13\n",
       "17         Textiles-Woven                   12\n",
       "18  Bone/Ivory-Implements                    7\n",
       "19    Ceramics-Containers                    6\n",
       "20     Wood-Architectural                    5"
      ]
     },
     "execution_count": 13,
     "metadata": {},
     "output_type": "execute_result"
    }
   ],
   "source": [
    "# Create a DataFrame of just the Indonesian artifacts\n"
   ]
  },
  {
   "cell_type": "code",
   "execution_count": 14,
   "id": "c92c089a",
   "metadata": {},
   "outputs": [
    {
     "data": {
      "image/png": "[encoded data removed]",
      "text/plain": [
       "<Figure size 432x432 with 1 Axes>"
      ]
     },
     "metadata": {},
     "output_type": "display_data"
    }
   ],
   "source": [
    "# Create a pie chart of the Indonesian artifacts\n"
   ]
  },
  {
   "cell_type": "code",
   "execution_count": 15,
   "id": "6acef59d",
   "metadata": {},
   "outputs": [
    {
     "data": {
      "image/png": "[encoded data removed]",
      "text/plain": [
       "<Figure size 432x432 with 1 Axes>"
      ]
     },
     "metadata": {
      "needs_background": "light"
     },
     "output_type": "display_data"
    }
   ],
   "source": [
    "# Create a horizontal bar chart of the Nigerian artifacts\n"
   ]
  },
  {
   "cell_type": "code",
   "execution_count": 18,
   "id": "d569de15",
   "metadata": {},
   "outputs": [
    {
     "data": {
      "text/html": [
       "<div>\n",
       "<style scoped>\n",
       "    .dataframe tbody tr th:only-of-type {\n",
       "        vertical-align: middle;\n",
       "    }\n",
       "\n",
       "    .dataframe tbody tr th {\n",
       "        vertical-align: top;\n",
       "    }\n",
       "\n",
       "    .dataframe thead th {\n",
       "        text-align: right;\n",
       "    }\n",
       "</style>\n",
       "<table border=\"1\" class=\"dataframe\">\n",
       "  <thead>\n",
       "    <tr style=\"text-align: right;\">\n",
       "      <th></th>\n",
       "      <th>country</th>\n",
       "      <th>classification</th>\n",
       "      <th>number of artifacts</th>\n",
       "    </tr>\n",
       "  </thead>\n",
       "  <tbody>\n",
       "    <tr>\n",
       "      <th>27</th>\n",
       "      <td>Nigeria</td>\n",
       "      <td>Bone/Ivory-Sculpture</td>\n",
       "      <td>17</td>\n",
       "    </tr>\n",
       "    <tr>\n",
       "      <th>28</th>\n",
       "      <td>Nigeria</td>\n",
       "      <td>Wood-Sculpture</td>\n",
       "      <td>14</td>\n",
       "    </tr>\n",
       "    <tr>\n",
       "      <th>29</th>\n",
       "      <td>Nigeria</td>\n",
       "      <td>Bone/Ivory-Ornaments</td>\n",
       "      <td>11</td>\n",
       "    </tr>\n",
       "    <tr>\n",
       "      <th>30</th>\n",
       "      <td>Nigeria</td>\n",
       "      <td>Bone/Ivory-Musical Instruments</td>\n",
       "      <td>9</td>\n",
       "    </tr>\n",
       "    <tr>\n",
       "      <th>31</th>\n",
       "      <td>Nigeria</td>\n",
       "      <td>Metal-Sculpture</td>\n",
       "      <td>7</td>\n",
       "    </tr>\n",
       "    <tr>\n",
       "      <th>32</th>\n",
       "      <td>Nigeria</td>\n",
       "      <td>Bone/Ivory-Containers</td>\n",
       "      <td>7</td>\n",
       "    </tr>\n",
       "  </tbody>\n",
       "</table>\n",
       "</div>"
      ],
      "text/plain": [
       "    country                  classification  number of artifacts\n",
       "27  Nigeria            Bone/Ivory-Sculpture                   17\n",
       "28  Nigeria                  Wood-Sculpture                   14\n",
       "29  Nigeria            Bone/Ivory-Ornaments                   11\n",
       "30  Nigeria  Bone/Ivory-Musical Instruments                    9\n",
       "31  Nigeria                 Metal-Sculpture                    7\n",
       "32  Nigeria           Bone/Ivory-Containers                    7"
      ]
     },
     "execution_count": 18,
     "metadata": {},
     "output_type": "execute_result"
    }
   ],
   "source": [
    "# Print out the DataFrame with just the Nigerian artifacts\n"
   ]
  },
  {
   "cell_type": "markdown",
   "id": "063c9909",
   "metadata": {},
   "source": [
    "Data Source: [The Metropolitan Museum of Art](https://www.metmuseum.org/) (2022). The Metropolitan Museum of Art Collection API https://metmuseum.github.io/. Licenced under the [Creative Commons 0 Licence](https://creativecommons.org/publicdomain/zero/1.0/).<br />\n",
    "Accessed Oct 3, 2022. Data collected from departmentId=5 (\"Arts of Africa, Oceania, and the Americas\") and search string \"animal\"."
   ]
  },
  {
   "cell_type": "code",
   "execution_count": null,
   "id": "938bc910",
   "metadata": {},
   "outputs": [],
   "source": []
  }
 ],
 "metadata": {
  "kernelspec": {
   "display_name": "PythonData",
   "language": "python",
   "name": "pythondata"
  },
  "language_info": {
   "codemirror_mode": {
    "name": "ipython",
    "version": 3
   },
   "file_extension": ".py",
   "mimetype": "text/x-python",
   "name": "python",
   "nbconvert_exporter": "python",
   "pygments_lexer": "ipython3",
   "version": "3.7.7"
  }
 },
 "nbformat": 4,
 "nbformat_minor": 5
}
