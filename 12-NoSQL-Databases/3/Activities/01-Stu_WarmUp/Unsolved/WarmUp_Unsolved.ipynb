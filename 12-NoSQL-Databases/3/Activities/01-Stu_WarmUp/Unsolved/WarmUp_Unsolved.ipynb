{
 "cells": [
  {
   "cell_type": "markdown",
   "id": "a149e9ba",
   "metadata": {},
   "source": [
    "Before running any of the following code, make sure you import the dataset with `mongoimport --type json -d met -c artifacts --drop --jsonArray artifacts.json`"
   ]
  },
  {
   "cell_type": "code",
   "execution_count": null,
   "id": "f29fc113",
   "metadata": {},
   "outputs": [],
   "source": [
    "# Import dependencies\n",
    "from pymongo import MongoClient\n",
    "from pprint import pprint"
   ]
  },
  {
   "cell_type": "code",
   "execution_count": null,
   "id": "d32c5644",
   "metadata": {},
   "outputs": [],
   "source": [
    "# Create an instance of MongoClient\n"
   ]
  },
  {
   "cell_type": "code",
   "execution_count": null,
   "id": "5bd18b0e",
   "metadata": {},
   "outputs": [],
   "source": [
    "# confirm that our new database was created\n"
   ]
  },
  {
   "cell_type": "code",
   "execution_count": null,
   "id": "5e6110a0",
   "metadata": {},
   "outputs": [],
   "source": [
    "# assign the met database to a variable name\n"
   ]
  },
  {
   "cell_type": "code",
   "execution_count": null,
   "id": "ac87021a",
   "metadata": {},
   "outputs": [],
   "source": [
    "# review the collections in our new database\n"
   ]
  },
  {
   "cell_type": "code",
   "execution_count": null,
   "id": "c7760a02",
   "metadata": {},
   "outputs": [],
   "source": [
    "# review a document in the artifacts collection\n"
   ]
  },
  {
   "cell_type": "code",
   "execution_count": null,
   "id": "54542eca",
   "metadata": {},
   "outputs": [],
   "source": [
    "# assign the collection to a variable\n"
   ]
  },
  {
   "cell_type": "markdown",
   "id": "cc3cc4c4",
   "metadata": {},
   "source": [
    "## Explore the Collection"
   ]
  },
  {
   "cell_type": "code",
   "execution_count": null,
   "id": "6f19e6c6",
   "metadata": {},
   "outputs": [],
   "source": [
    "# Find how many documents have culture as \"Nayarit\"\n"
   ]
  },
  {
   "cell_type": "code",
   "execution_count": null,
   "id": "504f8a18",
   "metadata": {},
   "outputs": [],
   "source": [
    "# Find how many documents have a height greater than or equal to 40cm\n"
   ]
  },
  {
   "cell_type": "code",
   "execution_count": null,
   "id": "77e2c9e8",
   "metadata": {},
   "outputs": [],
   "source": [
    "# Create a query that:\n",
    "# Finds the documents where the culture is \"Nayarit\" or \"Central American Isthmus\" and\n",
    "#     the height is less than or equal to 40cm\n",
    "# Returns only the following fields: \"title\", \"department\", \"culture\", \"measurements\", and \"objectURL\"\n",
    "# Sorts alphabetically by \"title\"\n",
    "# Limits the results to 5\n",
    "query = \n",
    "fields = \n",
    "sort = \n",
    "limit = \n",
    "\n",
    "# Cast the results as a list and save the results to a variable\n",
    "\n",
    "\n",
    "# Pretty print the results\n"
   ]
  },
  {
   "cell_type": "markdown",
   "id": "9ee95858",
   "metadata": {},
   "source": [
    "Data Source: [The Metropolitan Museum of Art](https://www.metmuseum.org/) (2022). The Metropolitan Museum of Art Collection API https://metmuseum.github.io/. Licenced under the [Creative Commons 0 Licence](https://creativecommons.org/publicdomain/zero/1.0/).<br />\n",
    "Accessed Oct 3, 2022. Data collected from departmentId=5 (\"Arts of Africa, Oceania, and the Americas\") and search string \"animal\"."
   ]
  }
 ],
 "metadata": {
  "kernelspec": {
   "display_name": "Python 3",
   "language": "python",
   "name": "python3"
  },
  "language_info": {
   "codemirror_mode": {
    "name": "ipython",
    "version": 3
   },
   "file_extension": ".py",
   "mimetype": "text/x-python",
   "name": "python",
   "nbconvert_exporter": "python",
   "pygments_lexer": "ipython3",
   "version": "3.8.8"
  }
 },
 "nbformat": 4,
 "nbformat_minor": 5
}
