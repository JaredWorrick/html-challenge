{
 "cells": [
  {
   "cell_type": "markdown",
   "id": "35f70af6",
   "metadata": {},
   "source": [
    "# Met Animals"
   ]
  },
  {
   "cell_type": "markdown",
   "id": "afdb3393",
   "metadata": {},
   "source": [
    "## Part 1: Connect to the Database"
   ]
  },
  {
   "cell_type": "code",
   "execution_count": 1,
   "id": "da97f222",
   "metadata": {},
   "outputs": [],
   "source": [
    "# Import dependencies\n",
    "from pymongo import MongoClient\n",
    "import json\n",
    "import requests \n",
    "from pprint import pprint"
   ]
  },
  {
   "cell_type": "code",
   "execution_count": null,
   "id": "d19aecae",
   "metadata": {},
   "outputs": [],
   "source": [
    "# Create an instance of MongoClient\n"
   ]
  },
  {
   "cell_type": "code",
   "execution_count": null,
   "id": "7c98aca6",
   "metadata": {},
   "outputs": [],
   "source": [
    "# assign the met database to a variable name\n"
   ]
  },
  {
   "cell_type": "code",
   "execution_count": null,
   "id": "9b1018e1",
   "metadata": {},
   "outputs": [],
   "source": [
    "# assign the collection to a variable\n"
   ]
  },
  {
   "cell_type": "markdown",
   "id": "03e9a37c",
   "metadata": {},
   "source": [
    "## Part 2: Collect the Data"
   ]
  },
  {
   "cell_type": "code",
   "execution_count": null,
   "id": "ef9b2170",
   "metadata": {},
   "outputs": [],
   "source": [
    "# Artifacts from department 5 and search string \"cave\"\n",
    "# https://collectionapi.metmuseum.org/public/collection/v1/search?departmentId=5&q=cave\n",
    "cave_ids = [313726,313724,312602,310364,318345,313256,310542,313240,310551,314557,310384,317901,317902,318730,310343,309557,307443,312268,778892,317619,312595,312915,317697,313325,310480,310644,309404,314142,317121,317120,316299,317430,317429,313151,317760,309960,313262,314217]\n",
    "\n",
    "# Print the number of IDs\n",
    "print(f'Number of IDs: {len(cave_ids)}')\n",
    "\n",
    "# Initialize a list to store the returned documents\n",
    "returned_data_list = []\n",
    "\n",
    "# Create a loop to make API calls about each artifact we're interested in\n",
    "for i in range(len(cave_ids)):\n",
    "    # API URL\n",
    "    url = \"https://collectionapi.metmuseum.org/public/collection/v1/objects/\" + str(cave_ids[i])\n",
    "    \n",
    "    # Make the API request\n",
    "    response = requests.get(url)\n",
    "    \n",
    "    # Extract the json result\n",
    "    extract_json = response.json()\n",
    "    \n",
    "    # Add the returned json to the end of the list\n",
    "    returned_data_list.append(extract_json)\n",
    "\n",
    "# Print the length of the results to ensure it matches the cave_ids list length\n",
    "print(f'Length of returned collection artifacts: {len(returned_data_list)}')"
   ]
  },
  {
   "cell_type": "markdown",
   "id": "f80233c4",
   "metadata": {},
   "source": [
    "Now we have our list of additional artifacts we want to add to our database, but we need to check that these artifacts are not already in our collection before we add them"
   ]
  },
  {
   "cell_type": "markdown",
   "id": "2c14cae1",
   "metadata": {},
   "source": [
    "## Part 3: Update the Database"
   ]
  },
  {
   "cell_type": "code",
   "execution_count": null,
   "id": "fc121baf",
   "metadata": {},
   "outputs": [],
   "source": [
    "# Choose just one item from our returned data and set it to a variable\n",
    "item_to_add = \n",
    "\n",
    "# Pretty print item_to_add\n"
   ]
  },
  {
   "cell_type": "code",
   "execution_count": null,
   "id": "68a889fe",
   "metadata": {},
   "outputs": [],
   "source": [
    "# Check if objectID is already in collection\n"
   ]
  },
  {
   "cell_type": "code",
   "execution_count": null,
   "id": "8667c836",
   "metadata": {},
   "outputs": [],
   "source": [
    "# Check if objectID not found\n",
    "\n",
    "    # Insert the new data into the collection\n",
    "\n",
    "    # Print objectID when inserted\n"
   ]
  },
  {
   "cell_type": "code",
   "execution_count": null,
   "id": "54d68ae8",
   "metadata": {},
   "outputs": [],
   "source": [
    "# Check that the new artifact was inserted\n"
   ]
  },
  {
   "cell_type": "code",
   "execution_count": null,
   "id": "96324ccb",
   "metadata": {},
   "outputs": [],
   "source": [
    "# Combine the above steps to loop through the whole list of data contained in returned_data_list\n",
    "# only adding to the collection when the artifact does not yet exist in the database\n",
    "\n",
    "# Loop through returned_data_list\n",
    "\n",
    "    # Check if the artifact already exists in the collection\n",
    "    \n",
    "        # Insert the new data into the collection\n",
    "      \n",
    "        \n",
    "        \n",
    "        # Print objectID when inserted\n",
    "        \n",
    "              \n",
    "    # Optional: Print a statement if the object is in the database. \n",
    "     "
   ]
  },
  {
   "cell_type": "markdown",
   "id": "95e41008",
   "metadata": {},
   "source": [
    "Data Source: [The Metropolitan Museum of Art](https://www.metmuseum.org/) (2022). The Metropolitan Museum of Art Collection API https://metmuseum.github.io/. Licenced under the [Creative Commons 0 Licence](https://creativecommons.org/publicdomain/zero/1.0/).<br />\n",
    "Accessed Oct 3, 2022. Data collected from departmentId=5 (\"Arts of Africa, Oceania, and the Americas\") and search string \"animal\"."
   ]
  },
  {
   "cell_type": "code",
   "execution_count": null,
   "id": "2e475b09",
   "metadata": {},
   "outputs": [],
   "source": []
  }
 ],
 "metadata": {
  "kernelspec": {
   "display_name": "PythonData",
   "language": "python",
   "name": "pythondata"
  },
  "language_info": {
   "codemirror_mode": {
    "name": "ipython",
    "version": 3
   },
   "file_extension": ".py",
   "mimetype": "text/x-python",
   "name": "python",
   "nbconvert_exporter": "python",
   "pygments_lexer": "ipython3",
   "version": "3.7.7"
  }
 },
 "nbformat": 4,
 "nbformat_minor": 5
}
