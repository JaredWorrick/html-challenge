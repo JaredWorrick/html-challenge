{
 "cells": [
  {
   "cell_type": "markdown",
   "id": "c9a97aff",
   "metadata": {},
   "source": [
    "# Introduction to Mongo"
   ]
  },
  {
   "cell_type": "code",
   "execution_count": null,
   "id": "7deae5ea",
   "metadata": {},
   "outputs": [],
   "source": [
    "from pymongo import MongoClient"
   ]
  },
  {
   "cell_type": "code",
   "execution_count": null,
   "id": "91b0adfc",
   "metadata": {},
   "outputs": [],
   "source": [
    "# Create an instance of MongoClient\n"
   ]
  },
  {
   "cell_type": "code",
   "execution_count": null,
   "id": "e4dc356e",
   "metadata": {},
   "outputs": [],
   "source": [
    "# confirm that our new database was created\n"
   ]
  },
  {
   "cell_type": "code",
   "execution_count": null,
   "id": "538b8048",
   "metadata": {},
   "outputs": [],
   "source": [
    "# assign the database to a variable name\n"
   ]
  },
  {
   "cell_type": "code",
   "execution_count": null,
   "id": "8a704fa0",
   "metadata": {},
   "outputs": [],
   "source": [
    "# review the collections in our new database\n"
   ]
  },
  {
   "cell_type": "code",
   "execution_count": null,
   "id": "cc312d77",
   "metadata": {},
   "outputs": [],
   "source": [
    "# review a document in the customer_list collection\n"
   ]
  },
  {
   "cell_type": "code",
   "execution_count": null,
   "id": "234b4f9b",
   "metadata": {},
   "outputs": [],
   "source": [
    "# assign the collection to a variable\n"
   ]
  },
  {
   "cell_type": "code",
   "execution_count": null,
   "id": "e9408f10",
   "metadata": {},
   "outputs": [],
   "source": [
    "# insert a new customer\n"
   ]
  },
  {
   "cell_type": "code",
   "execution_count": null,
   "id": "891044f2",
   "metadata": {},
   "outputs": [],
   "source": [
    "# Filter results by name\n"
   ]
  },
  {
   "cell_type": "code",
   "execution_count": null,
   "id": "e5c4e114",
   "metadata": {},
   "outputs": [],
   "source": [
    "# Find the number of customers with hamsters\n"
   ]
  },
  {
   "cell_type": "code",
   "execution_count": null,
   "id": "64be4623",
   "metadata": {},
   "outputs": [],
   "source": [
    "# Delete all the customers who have hamsters\n"
   ]
  },
  {
   "cell_type": "code",
   "execution_count": null,
   "id": "88d17288",
   "metadata": {},
   "outputs": [],
   "source": [
    "# Delete a collection\n"
   ]
  },
  {
   "cell_type": "code",
   "execution_count": null,
   "id": "d6cce680",
   "metadata": {},
   "outputs": [],
   "source": [
    "# Delete the database\n"
   ]
  }
 ],
 "metadata": {
  "kernelspec": {
   "display_name": "PythonData",
   "language": "python",
   "name": "pythondata"
  },
  "language_info": {
   "codemirror_mode": {
    "name": "ipython",
    "version": 3
   },
   "file_extension": ".py",
   "mimetype": "text/x-python",
   "name": "python",
   "nbconvert_exporter": "python",
   "pygments_lexer": "ipython3",
   "version": "3.7.7"
  }
 },
 "nbformat": 4,
 "nbformat_minor": 5
}
