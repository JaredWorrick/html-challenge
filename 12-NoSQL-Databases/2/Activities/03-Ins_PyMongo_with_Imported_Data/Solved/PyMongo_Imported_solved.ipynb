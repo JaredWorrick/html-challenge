{
 "cells": [
  {
   "cell_type": "markdown",
   "id": "6607ba1a",
   "metadata": {},
   "source": [
    "# Introduction to Mongo"
   ]
  },
  {
   "cell_type": "code",
   "execution_count": 1,
   "id": "1fce4f22",
   "metadata": {},
   "outputs": [],
   "source": [
    "from pymongo import MongoClient"
   ]
  },
  {
   "cell_type": "code",
   "execution_count": 2,
   "id": "9dc8826d",
   "metadata": {},
   "outputs": [],
   "source": [
    "# Create an instance of MongoClient\n",
    "mongo = MongoClient(port=27017)"
   ]
  },
  {
   "cell_type": "code",
   "execution_count": 3,
   "id": "60ebdfc9",
   "metadata": {},
   "outputs": [
    {
     "name": "stdout",
     "output_type": "stream",
     "text": [
      "['admin', 'autosaurus', 'classDB', 'config', 'epa', 'fruits_db', 'local', 'petsitly_marketing']\n"
     ]
    }
   ],
   "source": [
    "# confirm that our new database was created\n",
    "print(mongo.list_database_names())"
   ]
  },
  {
   "cell_type": "code",
   "execution_count": 4,
   "id": "3cab0c81",
   "metadata": {},
   "outputs": [],
   "source": [
    "# assign the database to a variable name\n",
    "db = mongo['petsitly_marketing']"
   ]
  },
  {
   "cell_type": "code",
   "execution_count": 5,
   "id": "3f57b567",
   "metadata": {},
   "outputs": [
    {
     "name": "stdout",
     "output_type": "stream",
     "text": [
      "['customer_list']\n"
     ]
    }
   ],
   "source": [
    "# review the collections in our new database\n",
    "print(db.list_collection_names())"
   ]
  },
  {
   "cell_type": "code",
   "execution_count": 6,
   "id": "6360d848",
   "metadata": {},
   "outputs": [
    {
     "name": "stdout",
     "output_type": "stream",
     "text": [
      "{'_id': ObjectId('6349cec4453e3afdab456caf'), 'Customer_First': 'Malvin', 'Customer_Last': 'Keeling', 'Address': '5221 Christopher Landing Suite 898', 'Email': 'udavis@hotmail.com', '2021_Visits': 95, '2021_Total_Spend': 1638.75, 'Pet_Type': 'fish'}\n"
     ]
    }
   ],
   "source": [
    "# review a document in the customer_list collection\n",
    "print(db.customer_list.find_one())"
   ]
  },
  {
   "cell_type": "code",
   "execution_count": 7,
   "id": "c6d8a4fd",
   "metadata": {},
   "outputs": [],
   "source": [
    "# assign the collection to a variable\n",
    "customer_list = db['customer_list']"
   ]
  },
  {
   "cell_type": "code",
   "execution_count": 8,
   "id": "e6f7a0ee",
   "metadata": {},
   "outputs": [
    {
     "data": {
      "text/plain": [
       "<pymongo.results.InsertOneResult at 0x7fea9809bd40>"
      ]
     },
     "execution_count": 8,
     "metadata": {},
     "output_type": "execute_result"
    }
   ],
   "source": [
    "# insert a new customer\n",
    "new_customer = {'_id':3, 'Customer_First': 'Data', 'Customer_Last': 'Viz', \n",
    "                'Address': '55882 Valley Fields Dr', 'Email': 'dataviz@bootcamp.edu', \n",
    "                '2021_Visits': 75, '2021_Total_Spend': 2017.75, 'Pet_Type': 'cat'}\n",
    "customer_list.insert_one(new_customer)"
   ]
  },
  {
   "cell_type": "code",
   "execution_count": 9,
   "id": "e526b7c3",
   "metadata": {},
   "outputs": [
    {
     "name": "stdout",
     "output_type": "stream",
     "text": [
      "{'_id': 3, 'Customer_First': 'Data', 'Customer_Last': 'Viz', 'Address': '55882 Valley Fields Dr', 'Email': 'dataviz@bootcamp.edu', '2021_Visits': 75, '2021_Total_Spend': 2017.75, 'Pet_Type': 'cat'}\n"
     ]
    }
   ],
   "source": [
    "# Filter results by name\n",
    "query = {'Customer_First': 'Data'}\n",
    "results = customer_list.find(query)\n",
    "for result in results:\n",
    "    print(result)"
   ]
  },
  {
   "cell_type": "code",
   "execution_count": 10,
   "id": "b11e18fd",
   "metadata": {},
   "outputs": [
    {
     "name": "stdout",
     "output_type": "stream",
     "text": [
      "{'_id': ObjectId('6349cec4453e3afdab456cf2'), 'Customer_First': 'Robbie', 'Customer_Last': 'Schaden', 'Address': '431 Grant Extensions Apt. 754', 'Email': 'millertara@yahoo.com', '2021_Visits': 62, '2021_Total_Spend': 1069.5, 'Pet_Type': 'hamster'}\n",
      "{'_id': ObjectId('6349cec4453e3afdab456d12'), 'Customer_First': 'Antwan', 'Customer_Last': 'Abernathy', 'Address': '511 Howell Spurs Apt. 193', 'Email': 'jennifer86@gmail.com', '2021_Visits': 12, '2021_Total_Spend': 207.0, 'Pet_Type': 'hamster'}\n",
      "{'_id': ObjectId('6349cec4453e3afdab456d13'), 'Customer_First': 'Shaniya', 'Customer_Last': 'Kuphal', 'Address': '4078 Smith Garden', 'Email': 'zachary29@yahoo.com', '2021_Visits': 59, '2021_Total_Spend': 1017.75, 'Pet_Type': 'hamster'}\n",
      "{'_id': ObjectId('6349cec4453e3afdab456d15'), 'Customer_First': 'Leonor', 'Customer_Last': 'Heller', 'Address': '44296 Johnson Tunnel', 'Email': 'shaun33@yahoo.com', '2021_Visits': 74, '2021_Total_Spend': 1276.5, 'Pet_Type': 'hamster'}\n",
      "{'_id': ObjectId('6349cec4453e3afdab456d16'), 'Customer_First': 'Cherilyn', 'Customer_Last': 'Parisian', 'Address': '980 Lewis Village Apt. 056', 'Email': 'scottdecker@gmail.com', '2021_Visits': 30, '2021_Total_Spend': 517.5, 'Pet_Type': 'hamster'}\n",
      "{'_id': ObjectId('6349cec4453e3afdab456d17'), 'Customer_First': 'Olar', 'Customer_Last': 'Rice', 'Address': '5162 Romero Springs', 'Email': 'tgilmore@yahoo.com', '2021_Visits': 47, '2021_Total_Spend': 810.75, 'Pet_Type': 'hamster'}\n",
      "{'_id': ObjectId('6349cec4453e3afdab456d2a'), 'Customer_First': 'Izabelle', 'Customer_Last': 'Rodriguez', 'Address': '25823 Moreno Bridge', 'Email': 'rebecca31@hotmail.com', '2021_Visits': 63, '2021_Total_Spend': 1086.75, 'Pet_Type': 'hamster'}\n",
      "{'_id': ObjectId('6349cec4453e3afdab456d8a'), 'Customer_First': 'Kennedy', 'Customer_Last': 'Doyle', 'Address': '9829 Lisa Manors Suite 209', 'Email': 'ohull@yahoo.com', '2021_Visits': 30, '2021_Total_Spend': 517.5, 'Pet_Type': 'hamster'}\n"
     ]
    }
   ],
   "source": [
    "# Find the number of customers with hamsters\n",
    "query = {'Pet_Type': 'hamster'}\n",
    "results = customer_list.find(query)\n",
    "for result in results:\n",
    "    print(result)"
   ]
  },
  {
   "cell_type": "code",
   "execution_count": 11,
   "id": "9113832a",
   "metadata": {},
   "outputs": [],
   "source": [
    "# Delete all the customers who have hamsters\n",
    "customer_list.delete_many(query)\n",
    "results = customer_list.find(query)\n",
    "for result in results:\n",
    "    print(result)"
   ]
  },
  {
   "cell_type": "code",
   "execution_count": 12,
   "id": "2f1a4f4f",
   "metadata": {},
   "outputs": [
    {
     "data": {
      "text/plain": [
       "[]"
      ]
     },
     "execution_count": 12,
     "metadata": {},
     "output_type": "execute_result"
    }
   ],
   "source": [
    "# Delete a collection\n",
    "db.drop_collection('customer_list')\n",
    "db.list_collection_names()"
   ]
  },
  {
   "cell_type": "code",
   "execution_count": 13,
   "id": "61fcd315",
   "metadata": {},
   "outputs": [
    {
     "data": {
      "text/plain": [
       "['admin', 'autosaurus', 'classDB', 'config', 'epa', 'fruits_db', 'local']"
      ]
     },
     "execution_count": 13,
     "metadata": {},
     "output_type": "execute_result"
    }
   ],
   "source": [
    "# Delete the database\n",
    "mongo.drop_database('petsitly_marketing')\n",
    "mongo.list_database_names()"
   ]
  },
  {
   "cell_type": "code",
   "execution_count": null,
   "id": "e1f35bc9",
   "metadata": {},
   "outputs": [],
   "source": []
  }
 ],
 "metadata": {
  "kernelspec": {
   "display_name": "PythonData",
   "language": "python",
   "name": "pythondata"
  },
  "language_info": {
   "codemirror_mode": {
    "name": "ipython",
    "version": 3
   },
   "file_extension": ".py",
   "mimetype": "text/x-python",
   "name": "python",
   "nbconvert_exporter": "python",
   "pygments_lexer": "ipython3",
   "version": "3.7.7"
  }
 },
 "nbformat": 4,
 "nbformat_minor": 5
}
