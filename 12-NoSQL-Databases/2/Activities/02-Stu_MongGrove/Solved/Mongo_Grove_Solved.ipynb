{
 "cells": [
  {
   "cell_type": "code",
   "execution_count": 1,
   "metadata": {},
   "outputs": [],
   "source": [
    "# Import dependencies\n",
    "from pymongo import MongoClient\n",
    "import datetime"
   ]
  },
  {
   "cell_type": "code",
   "execution_count": 2,
   "metadata": {},
   "outputs": [],
   "source": [
    "# The default port used by MongoDB is 27017\n",
    "# https://docs.mongodb.com/manual/reference/default-mongodb-port/\n",
    "mongo = MongoClient(port=27017)\n",
    "\n",
    "# Declare the database\n",
    "db = mongo.fruits_db\n",
    "\n",
    "# Declare the collection\n",
    "fruits = db.fruits"
   ]
  },
  {
   "cell_type": "code",
   "execution_count": 3,
   "metadata": {},
   "outputs": [
    {
     "data": {
      "text/plain": [
       "<pymongo.results.InsertOneResult at 0x7fe598229580>"
      ]
     },
     "execution_count": 3,
     "metadata": {},
     "output_type": "execute_result"
    }
   ],
   "source": [
    "# A dictionary that represents the document to be inserted\n",
    "post = {\n",
    "    'vendor': 'fruit star',\n",
    "    'fruit': 'raspberry',\n",
    "    'case_quantity': 21,\n",
    "    'ripeness': 2,\n",
    "    'date': datetime.datetime.utcnow()\n",
    "}\n",
    "# Insert the document into the database\n",
    "# The database and collection, if they don't already exist, will be created at this point.\n",
    "fruits.insert_one(post)"
   ]
  },
  {
   "cell_type": "code",
   "execution_count": 4,
   "metadata": {},
   "outputs": [
    {
     "name": "stdout",
     "output_type": "stream",
     "text": [
      "What is the vendor name: Geo Gardeners\n",
      "What is the type of fruit: blueberries\n",
      "How many cases where received: 1\n",
      "What is the ripeness of fruit (1 is unripe; 2 is ripe, 3 is over-ripe): 1\n"
     ]
    },
    {
     "data": {
      "text/plain": [
       "<pymongo.results.InsertOneResult at 0x7fe5780f3cc0>"
      ]
     },
     "execution_count": 4,
     "metadata": {},
     "output_type": "execute_result"
    }
   ],
   "source": [
    "# Ask the user for input. Store information into variables.\n",
    "vendor = input('What is the vendor name: ')\n",
    "fruit_type = input('What is the type of fruit: ')\n",
    "quantity = input('How many cases where received: ')\n",
    "ripeness = input('What is the ripeness of fruit (1 is unripe; 2 is ripe, 3 is over-ripe): ')\n",
    "\n",
    "# A dictionary that will become a MongoDB document\n",
    "post = {\n",
    "    'vendor': vendor,\n",
    "    'fruit': fruit_type,\n",
    "    'case_quantity': quantity,\n",
    "    'ripeness': ripeness,\n",
    "    'date': datetime.datetime.utcnow()\n",
    "}\n",
    "\n",
    "\n",
    "# Insert document into collection\n",
    "fruits.insert_one(post)"
   ]
  },
  {
   "cell_type": "code",
   "execution_count": 5,
   "metadata": {},
   "outputs": [
    {
     "name": "stdout",
     "output_type": "stream",
     "text": [
      "{'_id': ObjectId('637547716ddaaa5b71db1d72'), 'vendor': 'fruit star', 'fruit': 'raspberry', 'case_quantity': 21, 'ripeness': 2, 'date': datetime.datetime(2022, 11, 16, 20, 26, 25, 554000)}\n",
      "{'_id': ObjectId('637547c66ddaaa5b71db1d73'), 'vendor': 'Geo Gardeners', 'fruit': 'blueberries', 'case_quantity': '1', 'ripeness': '1', 'date': datetime.datetime(2022, 11, 16, 20, 27, 50, 858000)}\n"
     ]
    }
   ],
   "source": [
    "# Verify results:\n",
    "results = fruits.find()\n",
    "for result in results:\n",
    "    print(result)"
   ]
  },
  {
   "cell_type": "code",
   "execution_count": null,
   "metadata": {},
   "outputs": [],
   "source": []
  }
 ],
 "metadata": {
  "kernelspec": {
   "display_name": "Python 3",
   "language": "python",
   "name": "python3"
  },
  "language_info": {
   "codemirror_mode": {
    "name": "ipython",
    "version": 3
   },
   "file_extension": ".py",
   "mimetype": "text/x-python",
   "name": "python",
   "nbconvert_exporter": "python",
   "pygments_lexer": "ipython3",
   "version": "3.8.8"
  }
 },
 "nbformat": 4,
 "nbformat_minor": 2
}
