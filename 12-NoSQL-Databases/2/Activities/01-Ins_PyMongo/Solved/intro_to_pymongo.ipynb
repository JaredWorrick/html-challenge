{
 "cells": [
  {
   "cell_type": "code",
   "execution_count": 1,
   "metadata": {},
   "outputs": [],
   "source": [
    "# Module used to connect Python with MongoDB\n",
    "from pymongo import MongoClient"
   ]
  },
  {
   "cell_type": "code",
   "execution_count": 2,
   "metadata": {},
   "outputs": [],
   "source": [
    "# The default port used by MongoDB is 27017\n",
    "# https://docs.mongodb.com/manual/reference/default-mongodb-port/\n",
    "mongo = MongoClient(port=27017)\n",
    "\n",
    "# Define the 'classDB' database in Mongo\n",
    "db = mongo.classDB"
   ]
  },
  {
   "cell_type": "code",
   "execution_count": 3,
   "metadata": {},
   "outputs": [
    {
     "name": "stdout",
     "output_type": "stream",
     "text": [
      "{'_id': ObjectId('63485db0672c0cd609a3ad4f'), 'name': 'Mariah', 'age': 23, 'favorite_python_library': 'Seaborn', 'hobbies': ['Coding', 'Reading', 'Running']}\n",
      "{'_id': ObjectId('63485dba672c0cd609a3ad50'), 'name': 'Ricky', 'age': 34, 'favorite_python_library': 'Matplotlib', 'hobbies': ['Not Coding', 'Not Reading', 'Not Running', 'Guitar']}\n",
      "{'_id': ObjectId('63485dc2672c0cd609a3ad51'), 'name': 'Srikanth', 'age': 28, 'favorite_python_library': 'Pandas', 'hobbies': ['Netflix', 'Guitar', 'Traveling']}\n",
      "{'_id': ObjectId('6349cd3806a2239b3d6bda41'), 'name': 'Ahmed', 'row': 3, 'favorite_python_library': 'Matplotlib', 'hobbies': ['Running', 'Stargazing', 'Reading']}\n"
     ]
    }
   ],
   "source": [
    "# Insert a document into the 'classroom' collection\n",
    "db.classroom.insert_one(\n",
    "    {\n",
    "        'name': 'Ahmed',\n",
    "        'row': 3,\n",
    "        'favorite_python_library': 'Matplotlib',\n",
    "        'hobbies': ['Running', 'Stargazing', 'Reading']\n",
    "    }\n",
    ")\n",
    "\n",
    "# Query the classroom collection.\n",
    "classroom = db.classroom.find()\n",
    "\n",
    "# See the data in collection\n",
    "for student in classroom:\n",
    "    print(student)"
   ]
  },
  {
   "cell_type": "code",
   "execution_count": 4,
   "metadata": {},
   "outputs": [
    {
     "name": "stdout",
     "output_type": "stream",
     "text": [
      "{'_id': ObjectId('63485db0672c0cd609a3ad4f'), 'name': 'Mariah', 'age': 23, 'favorite_python_library': 'Seaborn', 'hobbies': ['Coding', 'Reading', 'Running']}\n",
      "{'_id': ObjectId('63485dba672c0cd609a3ad50'), 'name': 'Ricky', 'age': 34, 'favorite_python_library': 'Matplotlib', 'hobbies': ['Not Coding', 'Not Reading', 'Not Running', 'Guitar']}\n",
      "{'_id': ObjectId('63485dc2672c0cd609a3ad51'), 'name': 'Srikanth', 'age': 28, 'favorite_python_library': 'Pandas', 'hobbies': ['Netflix', 'Guitar', 'Traveling']}\n",
      "{'_id': ObjectId('6349cd3806a2239b3d6bda41'), 'name': 'Ahmed', 'row': 4, 'favorite_python_library': 'Matplotlib', 'hobbies': ['Running', 'Stargazing', 'Reading']}\n"
     ]
    }
   ],
   "source": [
    "# Update a document\n",
    "db.classroom.update_one(\n",
    "    {'name': 'Ahmed'},\n",
    "    {'$set':\n",
    "        {'row': 4}\n",
    "     }\n",
    ")\n",
    "\n",
    "# Query the classroom collection\n",
    "classroom = db.classroom.find()\n",
    "\n",
    "# See the change in collection.\n",
    "for student in classroom:\n",
    "    print(student)"
   ]
  },
  {
   "cell_type": "code",
   "execution_count": 5,
   "metadata": {},
   "outputs": [
    {
     "name": "stdout",
     "output_type": "stream",
     "text": [
      "{'_id': ObjectId('63485db0672c0cd609a3ad4f'), 'name': 'Mariah', 'age': 23, 'favorite_python_library': 'Seaborn', 'hobbies': ['Coding', 'Reading', 'Running']}\n",
      "{'_id': ObjectId('63485dba672c0cd609a3ad50'), 'name': 'Ricky', 'age': 34, 'favorite_python_library': 'Matplotlib', 'hobbies': ['Not Coding', 'Not Reading', 'Not Running', 'Guitar']}\n",
      "{'_id': ObjectId('63485dc2672c0cd609a3ad51'), 'name': 'Srikanth', 'age': 28, 'favorite_python_library': 'Pandas', 'hobbies': ['Netflix', 'Guitar', 'Traveling']}\n",
      "{'_id': ObjectId('6349cd3806a2239b3d6bda41'), 'name': 'Ahmed', 'row': 4, 'favorite_python_library': 'Matplotlib', 'hobbies': ['Running', 'Stargazing', 'Reading', 'Listening to country music']}\n"
     ]
    }
   ],
   "source": [
    "# Add an item to a document array\n",
    "db.classroom.update_one(\n",
    "    {'name': 'Ahmed'},\n",
    "    {'$push':\n",
    "        {'hobbies': 'Listening to country music'}\n",
    "     }\n",
    ")\n",
    "\n",
    "# Query the classroom collection.\n",
    "classroom = db.classroom.find()\n",
    "\n",
    "# See the change in collection.\n",
    "for student in classroom:\n",
    "    print(student)"
   ]
  },
  {
   "cell_type": "code",
   "execution_count": 6,
   "metadata": {},
   "outputs": [
    {
     "name": "stdout",
     "output_type": "stream",
     "text": [
      "{'_id': ObjectId('63485db0672c0cd609a3ad4f'), 'name': 'Mariah', 'age': 23, 'favorite_python_library': 'Seaborn', 'hobbies': ['Coding', 'Reading', 'Running']}\n",
      "{'_id': ObjectId('63485dba672c0cd609a3ad50'), 'name': 'Ricky', 'age': 34, 'favorite_python_library': 'Matplotlib', 'hobbies': ['Not Coding', 'Not Reading', 'Not Running', 'Guitar']}\n",
      "{'_id': ObjectId('63485dc2672c0cd609a3ad51'), 'name': 'Srikanth', 'age': 28, 'favorite_python_library': 'Pandas', 'hobbies': ['Netflix', 'Guitar', 'Traveling']}\n",
      "{'_id': ObjectId('6349cd3806a2239b3d6bda41'), 'name': 'Ahmed', 'favorite_python_library': 'Matplotlib', 'hobbies': ['Running', 'Stargazing', 'Reading', 'Listening to country music']}\n"
     ]
    }
   ],
   "source": [
    "# Delete a field from a document\n",
    "db.classroom.update_one({'name': 'Ahmed'},\n",
    "                        {'$unset':\n",
    "                             {'row': \"\"}\n",
    "                        }\n",
    "                        )\n",
    "\n",
    "# Query the classroom collection\n",
    "classroom = db.classroom.find()\n",
    "\n",
    "# See the change in collection.\n",
    "for student in classroom:\n",
    "    print(student)"
   ]
  },
  {
   "cell_type": "code",
   "execution_count": 7,
   "metadata": {},
   "outputs": [
    {
     "name": "stdout",
     "output_type": "stream",
     "text": [
      "{'_id': ObjectId('63485db0672c0cd609a3ad4f'), 'name': 'Mariah', 'age': 23, 'favorite_python_library': 'Seaborn', 'hobbies': ['Coding', 'Reading', 'Running']}\n",
      "{'_id': ObjectId('63485dba672c0cd609a3ad50'), 'name': 'Ricky', 'age': 34, 'favorite_python_library': 'Matplotlib', 'hobbies': ['Not Coding', 'Not Reading', 'Not Running', 'Guitar']}\n",
      "{'_id': ObjectId('63485dc2672c0cd609a3ad51'), 'name': 'Srikanth', 'age': 28, 'favorite_python_library': 'Pandas', 'hobbies': ['Netflix', 'Guitar', 'Traveling']}\n"
     ]
    }
   ],
   "source": [
    "# Delete a document from a collection\n",
    "db.classroom.delete_one(\n",
    "    {'name': 'Ahmed'}\n",
    ")\n",
    "\n",
    "# Query the classroom collection\n",
    "classroom = db.classroom.find()\n",
    "\n",
    "# See the change in collection.\n",
    "for student in classroom:\n",
    "    print(student)"
   ]
  },
  {
   "cell_type": "code",
   "execution_count": null,
   "metadata": {},
   "outputs": [],
   "source": []
  }
 ],
 "metadata": {
  "kernelspec": {
   "display_name": "PythonData",
   "language": "python",
   "name": "pythondata"
  },
  "language_info": {
   "codemirror_mode": {
    "name": "ipython",
    "version": 3
   },
   "file_extension": ".py",
   "mimetype": "text/x-python",
   "name": "python",
   "nbconvert_exporter": "python",
   "pygments_lexer": "ipython3",
   "version": "3.7.7"
  }
 },
 "nbformat": 4,
 "nbformat_minor": 2
}
