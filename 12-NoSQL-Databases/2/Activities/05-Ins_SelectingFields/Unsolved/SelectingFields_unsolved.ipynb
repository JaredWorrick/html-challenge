{
 "cells": [
  {
   "cell_type": "code",
   "execution_count": null,
   "id": "24f84706",
   "metadata": {},
   "outputs": [],
   "source": [
    "# Import dependencies\n",
    "from pymongo import MongoClient\n",
    "from pprint import pprint"
   ]
  },
  {
   "cell_type": "code",
   "execution_count": null,
   "id": "c8bc3963",
   "metadata": {},
   "outputs": [],
   "source": [
    "# Create an instance of MongoClient\n",
    "mongo = MongoClient(port=27017)"
   ]
  },
  {
   "cell_type": "code",
   "execution_count": null,
   "id": "5e974ab9",
   "metadata": {},
   "outputs": [],
   "source": [
    "# confirm that the \"autosaurus\" database is in MongoDB\n",
    "print(mongo.list_database_names())"
   ]
  },
  {
   "cell_type": "code",
   "execution_count": null,
   "id": "726f5553",
   "metadata": {},
   "outputs": [],
   "source": [
    "# assign the database to a variable name\n",
    "db = mongo['autosaurus']"
   ]
  },
  {
   "cell_type": "code",
   "execution_count": null,
   "id": "3f3961d8",
   "metadata": {},
   "outputs": [],
   "source": [
    "# review the collections in our new database\n",
    "print(db.list_collection_names())"
   ]
  },
  {
   "cell_type": "code",
   "execution_count": null,
   "id": "9e0ee4e9",
   "metadata": {},
   "outputs": [],
   "source": [
    "# assign each collection to a variable\n",
    "customers = db['customers']\n",
    "mechanics = db['mechanics']"
   ]
  },
  {
   "cell_type": "code",
   "execution_count": null,
   "id": "a82d8771",
   "metadata": {},
   "outputs": [],
   "source": [
    "# Create a query that finds the customers who have a Toyota\n",
    "\n",
    "# Print the number of results\n"
   ]
  },
  {
   "cell_type": "code",
   "execution_count": null,
   "id": "d6472c58",
   "metadata": {},
   "outputs": [],
   "source": [
    "# Display the number of documents in the customers collection\n"
   ]
  },
  {
   "cell_type": "code",
   "execution_count": null,
   "id": "f70f4d9b",
   "metadata": {},
   "outputs": [],
   "source": [
    "# Create a query that finds the mechanics who work 40 hours a week\n",
    "\n",
    "# Print the number of results\n"
   ]
  },
  {
   "cell_type": "code",
   "execution_count": null,
   "id": "f2bc4d38",
   "metadata": {},
   "outputs": [],
   "source": [
    "# Print just the first result from the query\n"
   ]
  },
  {
   "cell_type": "code",
   "execution_count": null,
   "id": "49435e50",
   "metadata": {},
   "outputs": [],
   "source": [
    "# Change the data type from String to Double for wages.hourly_rate\n"
   ]
  },
  {
   "cell_type": "code",
   "execution_count": null,
   "id": "5a3bf9ef",
   "metadata": {},
   "outputs": [],
   "source": [
    "# Select only the mechanic_name and wages.hourly_rate fields from the mechanics collection\n",
    "query = \n",
    "fields = \n",
    "\n",
    "# Capture the results to a variable\n",
    "\n",
    "\n",
    "# Pretty print the results\n"
   ]
  },
  {
   "cell_type": "code",
   "execution_count": null,
   "id": "ee6254f2",
   "metadata": {},
   "outputs": [],
   "source": [
    "# Select every field from the mechanics collection except the car_specialties field\n",
    "query = \n",
    "fields = \n",
    "\n",
    "# Capture the results to a variable\n",
    "\n",
    "\n",
    "# Pretty print the first two results\n"
   ]
  }
 ],
 "metadata": {
  "kernelspec": {
   "display_name": "PythonData",
   "language": "python",
   "name": "pythondata"
  },
  "language_info": {
   "codemirror_mode": {
    "name": "ipython",
    "version": 3
   },
   "file_extension": ".py",
   "mimetype": "text/x-python",
   "name": "python",
   "nbconvert_exporter": "python",
   "pygments_lexer": "ipython3",
   "version": "3.7.7"
  }
 },
 "nbformat": 4,
 "nbformat_minor": 5
}
