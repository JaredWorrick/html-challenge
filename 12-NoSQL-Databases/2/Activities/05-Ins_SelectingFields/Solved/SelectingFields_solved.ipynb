{
 "cells": [
  {
   "cell_type": "code",
   "execution_count": 1,
   "id": "747a0d11",
   "metadata": {},
   "outputs": [],
   "source": [
    "# Import dependencies\n",
    "from pymongo import MongoClient\n",
    "from pprint import pprint"
   ]
  },
  {
   "cell_type": "code",
   "execution_count": 2,
   "id": "638a4467",
   "metadata": {},
   "outputs": [],
   "source": [
    "# Create an instance of MongoClient\n",
    "mongo = MongoClient(port=27017)"
   ]
  },
  {
   "cell_type": "code",
   "execution_count": 3,
   "id": "22f2d463",
   "metadata": {},
   "outputs": [
    {
     "name": "stdout",
     "output_type": "stream",
     "text": [
      "['admin', 'autosaurus', 'classDB', 'config', 'epa', 'fruits_db', 'local']\n"
     ]
    }
   ],
   "source": [
    "# confirm that the \"autosaurus\" database is in MongoDB\n",
    "print(mongo.list_database_names())"
   ]
  },
  {
   "cell_type": "code",
   "execution_count": 4,
   "id": "67be1866",
   "metadata": {},
   "outputs": [],
   "source": [
    "# assign the database to a variable name\n",
    "db = mongo['autosaurus']"
   ]
  },
  {
   "cell_type": "code",
   "execution_count": 5,
   "id": "f45f011a",
   "metadata": {},
   "outputs": [
    {
     "name": "stdout",
     "output_type": "stream",
     "text": [
      "['customers', 'mechanics']\n"
     ]
    }
   ],
   "source": [
    "# review the collections in our new database\n",
    "print(db.list_collection_names())"
   ]
  },
  {
   "cell_type": "code",
   "execution_count": 6,
   "id": "21f07dba",
   "metadata": {},
   "outputs": [],
   "source": [
    "# assign each collection to a variable\n",
    "customers = db['customers']\n",
    "mechanics = db['mechanics']"
   ]
  },
  {
   "cell_type": "code",
   "execution_count": 7,
   "id": "41dc94d3",
   "metadata": {},
   "outputs": [
    {
     "name": "stdout",
     "output_type": "stream",
     "text": [
      "Number of documents in result: 49\n"
     ]
    }
   ],
   "source": [
    "# Create a query that finds the customers who have a Toyota\n",
    "query = {'car_make': \"Toyota\"}\n",
    "\n",
    "# Print the number of results\n",
    "print(\"Number of documents in result:\", customers.count_documents(query))"
   ]
  },
  {
   "cell_type": "code",
   "execution_count": 8,
   "id": "d0a01c12",
   "metadata": {},
   "outputs": [
    {
     "data": {
      "text/plain": [
       "1000"
      ]
     },
     "execution_count": 8,
     "metadata": {},
     "output_type": "execute_result"
    }
   ],
   "source": [
    "# Display the number of documents in the customers collection\n",
    "customers.count_documents({})"
   ]
  },
  {
   "cell_type": "code",
   "execution_count": 9,
   "id": "c65b7797",
   "metadata": {},
   "outputs": [
    {
     "name": "stdout",
     "output_type": "stream",
     "text": [
      "Number of documents in result: 7\n"
     ]
    }
   ],
   "source": [
    "# Create a query that finds the mechanics who work 40 hours a week\n",
    "query = {'wages.weekly_hours': 40}\n",
    "\n",
    "# Print the number of results\n",
    "print(\"Number of documents in result:\", mechanics.count_documents(query))"
   ]
  },
  {
   "cell_type": "code",
   "execution_count": 10,
   "id": "dc60e75b",
   "metadata": {},
   "outputs": [
    {
     "name": "stdout",
     "output_type": "stream",
     "text": [
      "First result:\n",
      "{'_id': ObjectId('6349da2c6d16ec75400c62bf'),\n",
      " 'car_specialties': ['Ferrari',\n",
      "                     'Porsche',\n",
      "                     'Lexus',\n",
      "                     'Nissan',\n",
      "                     'Saab',\n",
      "                     'Jeep',\n",
      "                     'Isuzu',\n",
      "                     'Fillmore',\n",
      "                     'Citroën'],\n",
      " 'contact': {'email': 'tanakaa@autosaurus.com', 'phone': '555-876-8755'},\n",
      " 'hours': {'Friday': '8am-4pm',\n",
      "           'Saturday': '8am-4pm',\n",
      "           'Thursday': '10am-6pm',\n",
      "           'Tuesday': '8am-4pm',\n",
      "           'Wednesday': '11am-7pm'},\n",
      " 'mechanic_name': 'Ai Tanaka',\n",
      " 'wages': {'hourly_rate': '50', 'weekly_hours': 40}}\n"
     ]
    }
   ],
   "source": [
    "# Print just the first result from the query\n",
    "print(\"First result:\")\n",
    "results = mechanics.find(query)\n",
    "pprint(results[0])"
   ]
  },
  {
   "cell_type": "code",
   "execution_count": 11,
   "id": "267acb65",
   "metadata": {},
   "outputs": [
    {
     "data": {
      "text/plain": [
       "<pymongo.results.UpdateResult at 0x7f9518341480>"
      ]
     },
     "execution_count": 11,
     "metadata": {},
     "output_type": "execute_result"
    }
   ],
   "source": [
    "# Change the data type from String to Double for wages.hourly_rate\n",
    "mechanics.update_many({}, [ {'$set':{ \"wages.hourly_rate\" : {'$toDouble': \"$wages.hourly_rate\"}}} ])"
   ]
  },
  {
   "cell_type": "code",
   "execution_count": 12,
   "id": "0585f652",
   "metadata": {},
   "outputs": [
    {
     "name": "stdout",
     "output_type": "stream",
     "text": [
      "{'_id': ObjectId('6349da2c6d16ec75400c62bf'),\n",
      " 'mechanic_name': 'Ai Tanaka',\n",
      " 'wages': {'hourly_rate': 50.0}}\n",
      "{'_id': ObjectId('6349da2c6d16ec75400c62c0'),\n",
      " 'mechanic_name': 'Taiwo Sani',\n",
      " 'wages': {'hourly_rate': 42.0}}\n",
      "{'_id': ObjectId('6349da2c6d16ec75400c62c1'),\n",
      " 'mechanic_name': 'Spanner McGee',\n",
      " 'wages': {'hourly_rate': 40.0}}\n",
      "{'_id': ObjectId('6349da2c6d16ec75400c62c2'),\n",
      " 'mechanic_name': 'Parvati Khatri',\n",
      " 'wages': {'hourly_rate': 43.5}}\n",
      "{'_id': ObjectId('6349da2c6d16ec75400c62c3'),\n",
      " 'mechanic_name': 'Dacey Cocom',\n",
      " 'wages': {'hourly_rate': 48.1}}\n",
      "{'_id': ObjectId('6349da2c6d16ec75400c62c4'),\n",
      " 'mechanic_name': 'Quenti Yupanqui',\n",
      " 'wages': {'hourly_rate': 46.75}}\n",
      "{'_id': ObjectId('6349da2c6d16ec75400c62c5'),\n",
      " 'mechanic_name': 'Gwan Jun-ho',\n",
      " 'wages': {'hourly_rate': 40.0}}\n"
     ]
    }
   ],
   "source": [
    "# Select only the mechanic_name and wages.hourly_rate fields from the mechanics collection\n",
    "query = {}\n",
    "fields = {'mechanic_name': 1, 'wages.hourly_rate': 1}\n",
    "\n",
    "# Capture the results to a variable\n",
    "results = mechanics.find(query, fields)\n",
    "\n",
    "# Pretty print the results\n",
    "for result in results:\n",
    "    pprint(result)"
   ]
  },
  {
   "cell_type": "code",
   "execution_count": 13,
   "id": "7cbd9692",
   "metadata": {},
   "outputs": [
    {
     "name": "stdout",
     "output_type": "stream",
     "text": [
      "{'_id': ObjectId('6349da2c6d16ec75400c62bf'),\n",
      " 'contact': {'email': 'tanakaa@autosaurus.com', 'phone': '555-876-8755'},\n",
      " 'hours': {'Friday': '8am-4pm',\n",
      "           'Saturday': '8am-4pm',\n",
      "           'Thursday': '10am-6pm',\n",
      "           'Tuesday': '8am-4pm',\n",
      "           'Wednesday': '11am-7pm'},\n",
      " 'mechanic_name': 'Ai Tanaka',\n",
      " 'wages': {'hourly_rate': 50.0, 'weekly_hours': 40}}\n",
      "{'_id': ObjectId('6349da2c6d16ec75400c62c0'),\n",
      " 'contact': {'email': 'sanit@autosaurus.com', 'phone': '555-876-8760'},\n",
      " 'hours': {'Friday': '9am-5pm',\n",
      "           'Saturday': '11am-7pm',\n",
      "           'Thursday': '8am-4pm',\n",
      "           'Tuesday': '9am-5pm',\n",
      "           'Wednesday': '9am-5pm'},\n",
      " 'mechanic_name': 'Taiwo Sani',\n",
      " 'wages': {'hourly_rate': 42.0, 'weekly_hours': 40}}\n"
     ]
    }
   ],
   "source": [
    "# Select every field from the mechanics collection except the car_specialties field\n",
    "query = {}\n",
    "fields = {'car_specialties': 0}\n",
    "\n",
    "# Capture the results to a variable\n",
    "results = mechanics.find(query, fields)\n",
    "\n",
    "# Pretty print the first two results\n",
    "for i in range(2):\n",
    "    pprint(results[i])"
   ]
  },
  {
   "cell_type": "code",
   "execution_count": null,
   "id": "980357b1",
   "metadata": {},
   "outputs": [],
   "source": []
  }
 ],
 "metadata": {
  "kernelspec": {
   "display_name": "PythonData",
   "language": "python",
   "name": "pythondata"
  },
  "language_info": {
   "codemirror_mode": {
    "name": "ipython",
    "version": 3
   },
   "file_extension": ".py",
   "mimetype": "text/x-python",
   "name": "python",
   "nbconvert_exporter": "python",
   "pygments_lexer": "ipython3",
   "version": "3.7.7"
  }
 },
 "nbformat": 4,
 "nbformat_minor": 5
}
