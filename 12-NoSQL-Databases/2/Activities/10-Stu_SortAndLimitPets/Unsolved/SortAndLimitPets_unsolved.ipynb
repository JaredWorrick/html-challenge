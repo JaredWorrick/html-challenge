{
 "cells": [
  {
   "cell_type": "code",
   "execution_count": null,
   "id": "c335425e",
   "metadata": {},
   "outputs": [],
   "source": [
    "# Import dependencies\n",
    "from pymongo import MongoClient\n",
    "from pprint import pprint"
   ]
  },
  {
   "cell_type": "code",
   "execution_count": null,
   "id": "04faa2a2",
   "metadata": {},
   "outputs": [],
   "source": [
    "# Create an instance of MongoClient\n",
    "mongo = MongoClient(port=27017)"
   ]
  },
  {
   "cell_type": "code",
   "execution_count": null,
   "id": "456335d8",
   "metadata": {},
   "outputs": [],
   "source": [
    "# confirm that the \"autosaurus\" database is in MongoDB\n",
    "print(mongo.list_database_names())"
   ]
  },
  {
   "cell_type": "code",
   "execution_count": null,
   "id": "8a78444e",
   "metadata": {},
   "outputs": [],
   "source": [
    "# assign the database to a variable name\n",
    "db = mongo['petsitly_marketing']"
   ]
  },
  {
   "cell_type": "code",
   "execution_count": null,
   "id": "ecd26fea",
   "metadata": {},
   "outputs": [],
   "source": [
    "# review the collections in our new database\n",
    "print(db.list_collection_names())"
   ]
  },
  {
   "cell_type": "code",
   "execution_count": null,
   "id": "82b497f6",
   "metadata": {},
   "outputs": [],
   "source": [
    "# assign the collection to a variable\n",
    "customers = db['customer_list']"
   ]
  },
  {
   "cell_type": "code",
   "execution_count": null,
   "id": "20831cb1",
   "metadata": {},
   "outputs": [],
   "source": [
    "# Create a query that finds customers who have cats or dogs\n",
    "\n",
    "# sort in descending order by 2021_Total_Spend\n",
    "\n",
    "# limit the results to the first 5\n",
    "\n",
    "# Pretty print the results\n"
   ]
  },
  {
   "cell_type": "code",
   "execution_count": null,
   "id": "fe5d6301",
   "metadata": {},
   "outputs": [],
   "source": [
    "# Create a query that finds customers who spent less than $500 in 2021\n",
    "\n",
    "# sort in ascending order by Customer_Last\n",
    "\n",
    "# limit the results to the first 5\n",
    "\n",
    "# Pretty print the results\n"
   ]
  },
  {
   "cell_type": "code",
   "execution_count": null,
   "id": "0b5cd4f7",
   "metadata": {},
   "outputs": [],
   "source": [
    "# Create a query that finds customers who spent less than $500 and had more than 20 visits in 2021\n",
    "\n",
    "# Remove the 'Address' and 'Email' fields from the results\n",
    "\n",
    "# sort in ascending order by '2021_Visits', '2021_Total_Spend'\n",
    "\n",
    "# limit the results to the first 8\n",
    "\n",
    "# Pretty print the results\n"
   ]
  }
 ],
 "metadata": {
  "kernelspec": {
   "display_name": "PythonData",
   "language": "python",
   "name": "pythondata"
  },
  "language_info": {
   "codemirror_mode": {
    "name": "ipython",
    "version": 3
   },
   "file_extension": ".py",
   "mimetype": "text/x-python",
   "name": "python",
   "nbconvert_exporter": "python",
   "pygments_lexer": "ipython3",
   "version": "3.7.7"
  }
 },
 "nbformat": 4,
 "nbformat_minor": 5
}
