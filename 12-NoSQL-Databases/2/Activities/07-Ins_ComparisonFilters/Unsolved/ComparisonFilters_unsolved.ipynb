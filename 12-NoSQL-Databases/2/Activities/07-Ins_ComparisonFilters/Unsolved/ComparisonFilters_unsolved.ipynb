{
 "cells": [
  {
   "cell_type": "code",
   "execution_count": null,
   "id": "53372ed9",
   "metadata": {},
   "outputs": [],
   "source": [
    "# Import dependencies\n",
    "from pymongo import MongoClient\n",
    "from pprint import pprint"
   ]
  },
  {
   "cell_type": "code",
   "execution_count": null,
   "id": "d6116b6f",
   "metadata": {},
   "outputs": [],
   "source": [
    "# Create an instance of MongoClient\n",
    "mongo = MongoClient(port=27017)"
   ]
  },
  {
   "cell_type": "code",
   "execution_count": null,
   "id": "2b7bc118",
   "metadata": {},
   "outputs": [],
   "source": [
    "# confirm that the \"autosaurus\" database is in MongoDB\n",
    "print(mongo.list_database_names())"
   ]
  },
  {
   "cell_type": "code",
   "execution_count": null,
   "id": "503f0bfb",
   "metadata": {},
   "outputs": [],
   "source": [
    "# assign the database to a variable name\n",
    "db = mongo['autosaurus']"
   ]
  },
  {
   "cell_type": "code",
   "execution_count": null,
   "id": "3244b5d5",
   "metadata": {},
   "outputs": [],
   "source": [
    "# review the collections in our new database\n",
    "print(db.list_collection_names())"
   ]
  },
  {
   "cell_type": "code",
   "execution_count": null,
   "id": "2c2dc29e",
   "metadata": {},
   "outputs": [],
   "source": [
    "# assign each collection to a variable\n",
    "customers = db['customers']\n",
    "mechanics = db['mechanics']"
   ]
  },
  {
   "cell_type": "code",
   "execution_count": null,
   "id": "396a50f5",
   "metadata": {},
   "outputs": [],
   "source": [
    "# Create a query that finds the customers who have cars from 2010 or later\n",
    "\n",
    "# Capture the results to a variable\n",
    "\n",
    "# Pretty print the first two results\n"
   ]
  },
  {
   "cell_type": "code",
   "execution_count": null,
   "id": "fb10242c",
   "metadata": {},
   "outputs": [],
   "source": [
    "# Create a query that finds the customers who have cars that were manufactured before 1990\n",
    "\n",
    "# Capture the results to a variable\n",
    "\n",
    "# Pretty print the first two results\n"
   ]
  },
  {
   "cell_type": "code",
   "execution_count": null,
   "id": "e81147f7",
   "metadata": {},
   "outputs": [],
   "source": [
    "# Create a query that finds the customer(s) who have \"Nye\" in their name\n",
    "\n",
    "# Capture the results to a variable\n",
    "\n",
    "# Pretty print the results\n"
   ]
  },
  {
   "cell_type": "code",
   "execution_count": null,
   "id": "bf15ec3d",
   "metadata": {},
   "outputs": [],
   "source": [
    "# To create a query that finds the customers who have cars that the mechanic \"Dacey Cocom\" can work on,\n",
    "# first we must find the types of cars Dacey specializes in.\n",
    "query = \n",
    "fields = \n",
    "\n",
    "# Capture the results to a variable\n",
    "\n",
    "\n",
    "# Pretty print the results\n"
   ]
  },
  {
   "cell_type": "code",
   "execution_count": null,
   "id": "0aafa7a5",
   "metadata": {},
   "outputs": [],
   "source": [
    "# Save the 'car_specialties' to a variable\n"
   ]
  },
  {
   "cell_type": "code",
   "execution_count": null,
   "id": "73648189",
   "metadata": {},
   "outputs": [],
   "source": [
    "# Create a query that finds the customers who have cars that the mechanic \"Dacey Cocom\" can work on\n",
    "\n",
    "\n",
    "# Capture the results to a variable\n",
    "\n",
    "\n",
    "# Pretty print the results\n"
   ]
  }
 ],
 "metadata": {
  "kernelspec": {
   "display_name": "PythonData",
   "language": "python",
   "name": "pythondata"
  },
  "language_info": {
   "codemirror_mode": {
    "name": "ipython",
    "version": 3
   },
   "file_extension": ".py",
   "mimetype": "text/x-python",
   "name": "python",
   "nbconvert_exporter": "python",
   "pygments_lexer": "ipython3",
   "version": "3.7.7"
  }
 },
 "nbformat": 4,
 "nbformat_minor": 5
}
