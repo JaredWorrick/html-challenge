{
 "cells": [
  {
   "cell_type": "code",
   "execution_count": 1,
   "id": "cccb1629",
   "metadata": {},
   "outputs": [],
   "source": [
    "# Import dependencies\n",
    "from pymongo import MongoClient\n",
    "from pprint import pprint"
   ]
  },
  {
   "cell_type": "code",
   "execution_count": 2,
   "id": "6e41144e",
   "metadata": {},
   "outputs": [],
   "source": [
    "# Create an instance of MongoClient\n",
    "mongo = MongoClient(port=27017)"
   ]
  },
  {
   "cell_type": "code",
   "execution_count": 3,
   "id": "b72199d9",
   "metadata": {},
   "outputs": [
    {
     "name": "stdout",
     "output_type": "stream",
     "text": [
      "['admin', 'autosaurus', 'classDB', 'config', 'epa', 'fruits_db', 'local']\n"
     ]
    }
   ],
   "source": [
    "# confirm that the \"autosaurus\" database is in MongoDB\n",
    "print(mongo.list_database_names())"
   ]
  },
  {
   "cell_type": "code",
   "execution_count": 4,
   "id": "3c565dc5",
   "metadata": {},
   "outputs": [],
   "source": [
    "# assign the database to a variable name\n",
    "db = mongo['autosaurus']"
   ]
  },
  {
   "cell_type": "code",
   "execution_count": 5,
   "id": "584d452d",
   "metadata": {},
   "outputs": [
    {
     "name": "stdout",
     "output_type": "stream",
     "text": [
      "['customers', 'mechanics']\n"
     ]
    }
   ],
   "source": [
    "# review the collections in our new database\n",
    "print(db.list_collection_names())"
   ]
  },
  {
   "cell_type": "code",
   "execution_count": 6,
   "id": "229c0197",
   "metadata": {},
   "outputs": [],
   "source": [
    "# assign each collection to a variable\n",
    "customers = db['customers']\n",
    "mechanics = db['mechanics']"
   ]
  },
  {
   "cell_type": "code",
   "execution_count": 7,
   "id": "dec3365f",
   "metadata": {},
   "outputs": [
    {
     "name": "stdout",
     "output_type": "stream",
     "text": [
      "{'_id': 5,\n",
      " 'car_make': 'GMC',\n",
      " 'car_model': 'Sierra',\n",
      " 'car_vin': '5UMBT93567L038994',\n",
      " 'car_year': 2011,\n",
      " 'full_name': 'Cinda Blackie',\n",
      " 'last_service': '3/28/22'}\n",
      "{'_id': 16,\n",
      " 'car_make': 'GMC',\n",
      " 'car_model': 'Canyon',\n",
      " 'car_vin': 'WVWAN7AN6EE072727',\n",
      " 'car_year': 2010,\n",
      " 'full_name': 'Flory Harlowe',\n",
      " 'last_service': '12/30/21'}\n"
     ]
    }
   ],
   "source": [
    "# Create a query that finds the customers who have cars from 2010 or later\n",
    "query = {'car_year': {'$gte': 2010}}\n",
    "\n",
    "# Capture the results to a variable\n",
    "results = customers.find(query)\n",
    "\n",
    "# Pretty print the first two results\n",
    "for i in range(2):\n",
    "    pprint(results[i])"
   ]
  },
  {
   "cell_type": "code",
   "execution_count": 8,
   "id": "fb1e93a6",
   "metadata": {},
   "outputs": [
    {
     "name": "stdout",
     "output_type": "stream",
     "text": [
      "{'_id': 24,\n",
      " 'car_make': 'Citroën',\n",
      " 'car_model': 'CX',\n",
      " 'car_vin': '1G4PP5SK5D4433071',\n",
      " 'car_year': 1974,\n",
      " 'full_name': 'Immanuel Rodie',\n",
      " 'last_service': '5/19/22'}\n",
      "{'_id': 35,\n",
      " 'car_make': 'Mazda',\n",
      " 'car_model': 'B2600',\n",
      " 'car_vin': 'SCBZB25E32C165286',\n",
      " 'car_year': 1987,\n",
      " 'full_name': 'Ettore De La Coste',\n",
      " 'last_service': '11/2/21'}\n"
     ]
    }
   ],
   "source": [
    "# Create a query that finds the customers who have cars that were manufactured before 1990\n",
    "query = {'car_year': {'$lt': 1990}}\n",
    "\n",
    "# Capture the results to a variable\n",
    "results = customers.find(query)\n",
    "\n",
    "# Pretty print the first two results\n",
    "for i in range(2):\n",
    "    pprint(results[i])"
   ]
  },
  {
   "cell_type": "code",
   "execution_count": 9,
   "id": "72f905b4",
   "metadata": {},
   "outputs": [
    {
     "name": "stdout",
     "output_type": "stream",
     "text": [
      "{'_id': 70,\n",
      " 'car_make': 'Buick',\n",
      " 'car_model': 'Regal',\n",
      " 'car_vin': '1G4GC5GCXBF481339',\n",
      " 'car_year': 2003,\n",
      " 'full_name': 'Billy Nye',\n",
      " 'last_service': '7/11/22'}\n",
      "{'_id': 106,\n",
      " 'car_make': 'GMC',\n",
      " 'car_model': 'Suburban 1500',\n",
      " 'car_vin': '2G61N5S33D9232665',\n",
      " 'car_year': 1992,\n",
      " 'full_name': 'Nye Barlie',\n",
      " 'last_service': '8/29/22'}\n"
     ]
    }
   ],
   "source": [
    "# Create a query that finds the customer(s) who have \"Nye\" in their name\n",
    "query = {'full_name': {'$regex': \"Nye\"}}\n",
    "\n",
    "# Capture the results to a variable\n",
    "results = customers.find(query)\n",
    "\n",
    "# Pretty print the results\n",
    "for result in results:\n",
    "    pprint(result)"
   ]
  },
  {
   "cell_type": "code",
   "execution_count": 10,
   "id": "ee34ddd5",
   "metadata": {},
   "outputs": [
    {
     "name": "stdout",
     "output_type": "stream",
     "text": [
      "{'_id': ObjectId('6349da2c6d16ec75400c62c3'),\n",
      " 'car_specialties': ['Jaguar',\n",
      "                     'Hummer',\n",
      "                     'Mitsubishi',\n",
      "                     'Geo',\n",
      "                     'Holden',\n",
      "                     'Rolls-Royce',\n",
      "                     'Mercury',\n",
      "                     'Subaru',\n",
      "                     'Maybach'],\n",
      " 'mechanic_name': 'Dacey Cocom'}\n"
     ]
    }
   ],
   "source": [
    "# To create a query that finds the customers who have cars that the mechanic \"Dacey Cocom\" can work on,\n",
    "# first we must find the types of cars Dacey specializes in.\n",
    "query = {'mechanic_name': \"Dacey Cocom\"}\n",
    "fields = {'mechanic_name': 1, 'car_specialties': 1}\n",
    "\n",
    "# Capture the results to a variable\n",
    "results = list(mechanics.find(query, fields))\n",
    "\n",
    "# Pretty print the results\n",
    "for result in results:\n",
    "    pprint(result)"
   ]
  },
  {
   "cell_type": "code",
   "execution_count": 11,
   "id": "1b59b600",
   "metadata": {},
   "outputs": [
    {
     "data": {
      "text/plain": [
       "['Jaguar',\n",
       " 'Hummer',\n",
       " 'Mitsubishi',\n",
       " 'Geo',\n",
       " 'Holden',\n",
       " 'Rolls-Royce',\n",
       " 'Mercury',\n",
       " 'Subaru',\n",
       " 'Maybach']"
      ]
     },
     "execution_count": 11,
     "metadata": {},
     "output_type": "execute_result"
    }
   ],
   "source": [
    "# Save the 'car_specialties' to a variable\n",
    "dacey_cars = results[0]['car_specialties']\n",
    "dacey_cars"
   ]
  },
  {
   "cell_type": "code",
   "execution_count": 12,
   "id": "7c83d165",
   "metadata": {},
   "outputs": [
    {
     "name": "stdout",
     "output_type": "stream",
     "text": [
      "{'_id': 51,\n",
      " 'car_make': 'Jaguar',\n",
      " 'car_model': 'S-Type',\n",
      " 'car_vin': 'WAU2GAFC4EN899609',\n",
      " 'car_year': 2005,\n",
      " 'full_name': 'Veronike Dunkinson',\n",
      " 'last_service': '10/5/22'}\n",
      "{'_id': 56,\n",
      " 'car_make': 'Hummer',\n",
      " 'car_model': 'H1',\n",
      " 'car_vin': '1G4PT5SV6F4016518',\n",
      " 'car_year': 1998,\n",
      " 'full_name': 'Blaire Ochterlony',\n",
      " 'last_service': '10/22/21'}\n"
     ]
    }
   ],
   "source": [
    "# Create a query that finds the customers who have cars that the mechanic \"Dacey Cocom\" can work on\n",
    "query = {'car_make': {'$in': dacey_cars}}\n",
    "\n",
    "# Capture the results to a variable\n",
    "results = customers.find(query)\n",
    "\n",
    "# Pretty print the first two results\n",
    "for i in range(2):\n",
    "    pprint(results[i])"
   ]
  },
  {
   "cell_type": "code",
   "execution_count": null,
   "id": "d799b32b",
   "metadata": {},
   "outputs": [],
   "source": []
  }
 ],
 "metadata": {
  "kernelspec": {
   "display_name": "PythonData",
   "language": "python",
   "name": "pythondata"
  },
  "language_info": {
   "codemirror_mode": {
    "name": "ipython",
    "version": 3
   },
   "file_extension": ".py",
   "mimetype": "text/x-python",
   "name": "python",
   "nbconvert_exporter": "python",
   "pygments_lexer": "ipython3",
   "version": "3.7.7"
  }
 },
 "nbformat": 4,
 "nbformat_minor": 5
}
