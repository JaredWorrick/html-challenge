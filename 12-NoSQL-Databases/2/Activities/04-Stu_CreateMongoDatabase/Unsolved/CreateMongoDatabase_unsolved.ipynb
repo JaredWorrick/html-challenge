{
 "cells": [
  {
   "cell_type": "markdown",
   "id": "ec374cf6",
   "metadata": {},
   "source": [
    "# Create a Mongo Database"
   ]
  },
  {
   "cell_type": "code",
   "execution_count": null,
   "id": "3fb70288",
   "metadata": {},
   "outputs": [],
   "source": [
    "from pymongo import MongoClient"
   ]
  },
  {
   "cell_type": "code",
   "execution_count": null,
   "id": "e3c66d81",
   "metadata": {},
   "outputs": [],
   "source": [
    "# Create an instance of MongoClient\n",
    "mongo = # YOUR CODE HERE"
   ]
  },
  {
   "cell_type": "code",
   "execution_count": null,
   "id": "f2658474",
   "metadata": {},
   "outputs": [],
   "source": [
    "# confirm that our new database was created\n",
    "print(# YOUR CODE HERE)"
   ]
  },
  {
   "cell_type": "code",
   "execution_count": null,
   "id": "978065b7",
   "metadata": {},
   "outputs": [],
   "source": [
    "# assign the petsitly_marketing database to a variable name\n",
    "db = # YOUR CODE HERE"
   ]
  },
  {
   "cell_type": "code",
   "execution_count": null,
   "id": "a9457b8d",
   "metadata": {},
   "outputs": [],
   "source": [
    "# review the collections in our new database\n",
    "print(# YOUR CODE HERE)"
   ]
  },
  {
   "cell_type": "code",
   "execution_count": null,
   "id": "e8baae4e",
   "metadata": {},
   "outputs": [],
   "source": [
    "# review a document in the customer_list collection\n",
    "print(# YOUR CODE HERE)"
   ]
  },
  {
   "cell_type": "code",
   "execution_count": null,
   "id": "26e9419a",
   "metadata": {},
   "outputs": [],
   "source": [
    "# assign the collection to a variable\n",
    "customer_list = # YOUR CODE HERE"
   ]
  },
  {
   "cell_type": "code",
   "execution_count": null,
   "id": "09032bc3",
   "metadata": {},
   "outputs": [],
   "source": [
    "# insert a new customer\n",
    "new_customer = {'_id':3, 'Customer_First': 'Data', 'Customer_Last': 'Viz', \n",
    "                'Address': '55882 Valley Fields Dr', 'Email': 'dataviz@bootcamp.edu', \n",
    "                '2021_Visits': 75, '2021_Total_Spend': 2017.75, 'Pet_Type': 'cat'}\n",
    "# YOUR CODE HERE"
   ]
  },
  {
   "cell_type": "code",
   "execution_count": null,
   "id": "2640ad9e",
   "metadata": {},
   "outputs": [],
   "source": [
    "# RUN THIS CELL\n",
    "# Filter results by name\n",
    "query = {'Customer_First': 'Data'}\n",
    "results = customer_list.find(query)\n",
    "for result in results:\n",
    "    print(result)"
   ]
  },
  {
   "cell_type": "markdown",
   "id": "9879d7d8",
   "metadata": {},
   "source": [
    "### Bonus: Try running queries to see what other types of animals customers have."
   ]
  },
  {
   "cell_type": "code",
   "execution_count": null,
   "id": "3def52ac",
   "metadata": {},
   "outputs": [],
   "source": [
    "# Find the number of customers with turtles\n",
    "query = # YOUR CODE HERE\n",
    "results = # YOUR CODE HERE\n",
    "for result in results:\n",
    "    print(result)"
   ]
  },
  {
   "cell_type": "code",
   "execution_count": null,
   "id": "900d70c0",
   "metadata": {},
   "outputs": [],
   "source": [
    "# Delete all the customers who have hamsters\n",
    "# YOUR CODE HERE\n",
    "results = # YOUR CODE HERE\n",
    "for result in results:\n",
    "    print(result)"
   ]
  },
  {
   "cell_type": "code",
   "execution_count": null,
   "id": "995ce59b",
   "metadata": {},
   "outputs": [],
   "source": [
    "# Delete a collection\n",
    "# YOUR CODE HERE\n",
    "# YOUR CODE HERE"
   ]
  },
  {
   "cell_type": "code",
   "execution_count": null,
   "id": "2155e55a",
   "metadata": {},
   "outputs": [],
   "source": [
    "# Delete the database\n",
    "# YOUR CODE HERE\n",
    "# YOUR CODE HERE"
   ]
  }
 ],
 "metadata": {
  "kernelspec": {
   "display_name": "PythonData",
   "language": "python",
   "name": "pythondata"
  },
  "language_info": {
   "codemirror_mode": {
    "name": "ipython",
    "version": 3
   },
   "file_extension": ".py",
   "mimetype": "text/x-python",
   "name": "python",
   "nbconvert_exporter": "python",
   "pygments_lexer": "ipython3",
   "version": "3.7.7"
  }
 },
 "nbformat": 4,
 "nbformat_minor": 5
}
