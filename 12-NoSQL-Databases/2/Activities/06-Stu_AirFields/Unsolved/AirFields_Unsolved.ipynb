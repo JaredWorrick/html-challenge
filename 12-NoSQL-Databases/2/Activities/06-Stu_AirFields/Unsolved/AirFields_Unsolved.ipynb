{
 "cells": [
  {
   "cell_type": "code",
   "execution_count": null,
   "id": "4625adf6",
   "metadata": {},
   "outputs": [],
   "source": [
    "# Import dependencies\n",
    "from pymongo import MongoClient\n",
    "from pprint import pprint"
   ]
  },
  {
   "cell_type": "code",
   "execution_count": null,
   "id": "534a4645",
   "metadata": {},
   "outputs": [],
   "source": [
    "# Create an instance of MongoClient\n",
    "mongo = MongoClient(port=27017)"
   ]
  },
  {
   "cell_type": "code",
   "execution_count": null,
   "id": "08c07d4b",
   "metadata": {},
   "outputs": [],
   "source": [
    "# confirm that the \"epa\" database is in MongoDB\n",
    "print(mongo.list_database_names())"
   ]
  },
  {
   "cell_type": "code",
   "execution_count": null,
   "id": "02798da0",
   "metadata": {},
   "outputs": [],
   "source": [
    "# assign the database to a variable name\n",
    "db = mongo['epa']"
   ]
  },
  {
   "cell_type": "code",
   "execution_count": null,
   "id": "4b9cdfb4",
   "metadata": {},
   "outputs": [],
   "source": [
    "# review the collections in our database\n",
    "print(db.list_collection_names())"
   ]
  },
  {
   "cell_type": "code",
   "execution_count": null,
   "id": "299aac9c",
   "metadata": {},
   "outputs": [],
   "source": [
    "# assign each collection to a variable\n",
    "ohio_daily_records = db['ohio_daily_records']\n",
    "ohio_air = db['ohio_air']\n",
    "annual_aqi_by_county = db['annual_aqi_by_county']"
   ]
  },
  {
   "cell_type": "code",
   "execution_count": null,
   "id": "596d19d4",
   "metadata": {},
   "outputs": [],
   "source": [
    "# Display the total number of documents in the annual_aqi_by_county collection\n"
   ]
  },
  {
   "cell_type": "code",
   "execution_count": null,
   "id": "1c74fd63",
   "metadata": {},
   "outputs": [],
   "source": [
    "# Create a query that finds the documents that have a \"parameter\" of \"Sulfur dioxide\" in the ohio_air collection\n",
    "\n",
    "# Print the number of results\n"
   ]
  },
  {
   "cell_type": "code",
   "execution_count": null,
   "id": "d8daf08c",
   "metadata": {},
   "outputs": [],
   "source": [
    "# Pretty print just the first result from the Sulfur dioxide query using list indexing\n"
   ]
  },
  {
   "cell_type": "code",
   "execution_count": null,
   "id": "a4fb5615",
   "metadata": {},
   "outputs": [],
   "source": [
    "# Select only the 'parameter', 'units_of_measure', 'observation_count', 'date_local', 'local_site_name', \n",
    "# 'site_address', 'city', and 'county' fields from the ohio_air collection\n",
    "\n",
    "# Capture the results to a variable\n",
    "\n",
    "# Pretty print the first two results\n"
   ]
  },
  {
   "cell_type": "code",
   "execution_count": null,
   "id": "5c3c0b53",
   "metadata": {},
   "outputs": [],
   "source": [
    "# Select every field from the ohio_daily_records collection except the \"COUNTY_CODE\" and \"STATE_CODE\" fields\n",
    "\n",
    "# Capture the results to a variable\n",
    "\n",
    "# Pretty print the first two results\n"
   ]
  },
  {
   "cell_type": "code",
   "execution_count": null,
   "id": "aea88da6",
   "metadata": {},
   "outputs": [],
   "source": [
    "# Change the data type from String to Double for CO.PERCENT_COMPLETE \n",
    "# and from String to Int for CO.DAILY_AQI_VALUE\n",
    "# in the ohio_daily_records collection\n"
   ]
  },
  {
   "cell_type": "code",
   "execution_count": null,
   "id": "cff1f143",
   "metadata": {},
   "outputs": [],
   "source": [
    "# Create a query that finds the documents in the ohio_daily_records collection \n",
    "# where CO.UNITS matches \"ppm\" and NO2.UNITS matches \"ppb\", and \n",
    "# select only the following fields: \"CBSA_NAME\", \"COUNTY\", \"Site Name\", \"Date\", \"CO\", \"NO2\", and \"SO2\". \n",
    "\n",
    "# Capture the results to a variable\n",
    "\n",
    "# Pretty print the first two results\n"
   ]
  },
  {
   "cell_type": "code",
   "execution_count": null,
   "id": "7279a4a4",
   "metadata": {},
   "outputs": [],
   "source": [
    "# Create a query that finds the documents where the \"State\" is \"Ohio\" in the annual_aqi_by_county collection \n",
    "# and returns only the \"County,\" \"State,\" \"Days with AQI,\" and \"Max AQI\" fields\n",
    "\n",
    "# Capture the results to a variable\n",
    "\n",
    "# Pretty print the first four results\n"
   ]
  }
 ],
 "metadata": {
  "kernelspec": {
   "display_name": "Python 3",
   "language": "python",
   "name": "python3"
  },
  "language_info": {
   "codemirror_mode": {
    "name": "ipython",
    "version": 3
   },
   "file_extension": ".py",
   "mimetype": "text/x-python",
   "name": "python",
   "nbconvert_exporter": "python",
   "pygments_lexer": "ipython3",
   "version": "3.8.8"
  }
 },
 "nbformat": 4,
 "nbformat_minor": 5
}
