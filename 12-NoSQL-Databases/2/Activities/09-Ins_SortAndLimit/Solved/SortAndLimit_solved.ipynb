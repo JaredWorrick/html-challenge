{
 "cells": [
  {
   "cell_type": "code",
   "execution_count": 1,
   "id": "be574090",
   "metadata": {},
   "outputs": [],
   "source": [
    "# Import dependencies\n",
    "from pymongo import MongoClient\n",
    "from pprint import pprint"
   ]
  },
  {
   "cell_type": "code",
   "execution_count": 2,
   "id": "dc45fb9a",
   "metadata": {},
   "outputs": [],
   "source": [
    "# Create an instance of MongoClient\n",
    "mongo = MongoClient(port=27017)"
   ]
  },
  {
   "cell_type": "code",
   "execution_count": 3,
   "id": "b69daf6f",
   "metadata": {},
   "outputs": [
    {
     "name": "stdout",
     "output_type": "stream",
     "text": [
      "['admin', 'autosaurus', 'classDB', 'config', 'epa', 'fruits_db', 'local', 'petsitly_marketing']\n"
     ]
    }
   ],
   "source": [
    "# confirm that the \"autosaurus\" database is in MongoDB\n",
    "print(mongo.list_database_names())"
   ]
  },
  {
   "cell_type": "code",
   "execution_count": 4,
   "id": "e7695dd3",
   "metadata": {},
   "outputs": [],
   "source": [
    "# assign the database to a variable name\n",
    "db = mongo['autosaurus']"
   ]
  },
  {
   "cell_type": "code",
   "execution_count": 5,
   "id": "3cad655c",
   "metadata": {},
   "outputs": [
    {
     "name": "stdout",
     "output_type": "stream",
     "text": [
      "['customers', 'mechanics']\n"
     ]
    }
   ],
   "source": [
    "# review the collections in our new database\n",
    "print(db.list_collection_names())"
   ]
  },
  {
   "cell_type": "code",
   "execution_count": 6,
   "id": "3053092f",
   "metadata": {},
   "outputs": [],
   "source": [
    "# assign each collection to a variable\n",
    "customers = db['customers']\n",
    "mechanics = db['mechanics']"
   ]
  },
  {
   "cell_type": "code",
   "execution_count": 7,
   "id": "6d518685",
   "metadata": {},
   "outputs": [
    {
     "name": "stdout",
     "output_type": "stream",
     "text": [
      "{'_id': 593,\n",
      " 'car_make': 'Porsche',\n",
      " 'car_model': 911,\n",
      " 'car_vin': 'WAUAH94F66N996350',\n",
      " 'car_year': 2009,\n",
      " 'full_name': 'Luci Beddie',\n",
      " 'last_service': '1/1/22'}\n",
      "{'_id': 593,\n",
      " 'car_make': 'Porsche',\n",
      " 'car_model': 911,\n",
      " 'car_vin': 'WAUAH94F66N996350',\n",
      " 'car_year': 2009,\n",
      " 'full_name': 'Luci Beddie',\n",
      " 'last_service': '1/1/22'}\n",
      "{'_id': 306,\n",
      " 'car_make': 'Chevrolet',\n",
      " 'car_model': 'Suburban 1500',\n",
      " 'car_vin': '1G6DB1ED8B0346297',\n",
      " 'car_year': 2002,\n",
      " 'full_name': 'Shelagh Uff',\n",
      " 'last_service': '1/10/22'}\n",
      "{'_id': 590,\n",
      " 'car_make': 'Pontiac',\n",
      " 'car_model': 'Grand Am',\n",
      " 'car_vin': '5XYKT3A16CG022995',\n",
      " 'car_year': 1985,\n",
      " 'full_name': 'Roxane Couch',\n",
      " 'last_service': '1/10/22'}\n",
      "{'_id': 3,\n",
      " 'car_make': 'Chrysler',\n",
      " 'car_model': 'Voyager',\n",
      " 'car_vin': 'WAUPN44E47N599833',\n",
      " 'car_year': 2003,\n",
      " 'full_name': 'Christa Duffield',\n",
      " 'last_service': '1/10/22'}\n"
     ]
    }
   ],
   "source": [
    "# Create a query that sorts in ascending order by last_service\n",
    "query = {}\n",
    "sort = [('last_service', 1)]\n",
    "\n",
    "# Capture the results to a variable\n",
    "results = customers.find(query).sort(sort)\n",
    "\n",
    "# Pretty print the first five results\n",
    "for i in range(5):\n",
    "    pprint(results[i])"
   ]
  },
  {
   "cell_type": "code",
   "execution_count": 8,
   "id": "602b8de0",
   "metadata": {},
   "outputs": [
    {
     "name": "stdout",
     "output_type": "stream",
     "text": [
      "[{'_id': 875,\n",
      "  'car_make': 'Mazda',\n",
      "  'car_model': 'Mazda6',\n",
      "  'car_vin': '3GYEK63N43G743393',\n",
      "  'car_year': 2003,\n",
      "  'full_name': 'Winthrop Retchford',\n",
      "  'last_service': '1/1/22'},\n",
      " {'_id': 593,\n",
      "  'car_make': 'Porsche',\n",
      "  'car_model': 911,\n",
      "  'car_vin': 'WAUAH94F66N996350',\n",
      "  'car_year': 2009,\n",
      "  'full_name': 'Luci Beddie',\n",
      "  'last_service': '1/1/22'},\n",
      " {'_id': 304,\n",
      "  'car_make': 'Maserati',\n",
      "  'car_model': 'Quattroporte',\n",
      "  'car_vin': '2C4RDGEG7DR461833',\n",
      "  'car_year': 2011,\n",
      "  'full_name': 'Madlen Dackombe',\n",
      "  'last_service': '1/10/22'},\n",
      " {'_id': 590,\n",
      "  'car_make': 'Pontiac',\n",
      "  'car_model': 'Grand Am',\n",
      "  'car_vin': '5XYKT3A16CG022995',\n",
      "  'car_year': 1985,\n",
      "  'full_name': 'Roxane Couch',\n",
      "  'last_service': '1/10/22'},\n",
      " {'_id': 3,\n",
      "  'car_make': 'Chrysler',\n",
      "  'car_model': 'Voyager',\n",
      "  'car_vin': 'WAUPN44E47N599833',\n",
      "  'car_year': 2003,\n",
      "  'full_name': 'Christa Duffield',\n",
      "  'last_service': '1/10/22'}]\n"
     ]
    }
   ],
   "source": [
    "# Create a query that sorts in ascending order by last_service and limits the results to the first 5\n",
    "query = {}\n",
    "sort = [('last_service', 1)]\n",
    "limit = 5\n",
    "\n",
    "# Pretty print the results\n",
    "pprint(list(customers.find(query).sort(sort).limit(limit)))"
   ]
  },
  {
   "cell_type": "code",
   "execution_count": 9,
   "id": "ab084c12",
   "metadata": {},
   "outputs": [
    {
     "name": "stdout",
     "output_type": "stream",
     "text": [
      "[{'_id': 966,\n",
      "  'car_make': 'Hyundai',\n",
      "  'car_model': 'Tucson',\n",
      "  'car_vin': 'WBAFV3C52ED597363',\n",
      "  'car_year': 2012,\n",
      "  'full_name': 'Corny Marryatt',\n",
      "  'last_service': '8/10/22'},\n",
      " {'_id': 416,\n",
      "  'car_make': 'Nissan',\n",
      "  'car_model': 'Versa',\n",
      "  'car_vin': '5GADV23L25D047844',\n",
      "  'car_year': 2012,\n",
      "  'full_name': 'Trina Pride',\n",
      "  'last_service': '2/27/22'},\n",
      " {'_id': 488,\n",
      "  'car_make': 'Nissan',\n",
      "  'car_model': 'Sentra',\n",
      "  'car_vin': '3D7LP2ET6BG853076',\n",
      "  'car_year': 2012,\n",
      "  'full_name': 'Katerine Giffin',\n",
      "  'last_service': '9/22/22'},\n",
      " {'_id': 204,\n",
      "  'car_make': 'Nissan',\n",
      "  'car_model': 'Maxima',\n",
      "  'car_vin': 'JA32X2HU4CU568626',\n",
      "  'car_year': 2011,\n",
      "  'full_name': 'Alane Sturgess',\n",
      "  'last_service': '1/19/22'},\n",
      " {'_id': 673,\n",
      "  'car_make': 'Hyundai',\n",
      "  'car_model': 'Genesis',\n",
      "  'car_vin': '2D4RN3DG6BR998863',\n",
      "  'car_year': 2011,\n",
      "  'full_name': 'Gawain Smye',\n",
      "  'last_service': '7/22/22'}]\n"
     ]
    }
   ],
   "source": [
    "# Create a query that:\n",
    "# finds customers with a \"Nissan\" or \"Hyundai\"\n",
    "# sorts in descending order by car_year\n",
    "# limits the results to the first 5\n",
    "query = {'car_make': {'$in': [\"Nissan\", \"Hyundai\"]}}\n",
    "sort = [('car_year', -1)]\n",
    "limit = 5\n",
    "\n",
    "# Pretty print the results\n",
    "pprint(list(customers.find(query).sort(sort).limit(limit)))"
   ]
  },
  {
   "cell_type": "code",
   "execution_count": 10,
   "id": "f954405a",
   "metadata": {},
   "outputs": [
    {
     "name": "stdout",
     "output_type": "stream",
     "text": [
      "[{'_id': 416,\n",
      "  'car_make': 'Nissan',\n",
      "  'car_model': 'Versa',\n",
      "  'car_vin': '5GADV23L25D047844',\n",
      "  'car_year': 2012,\n",
      "  'full_name': 'Trina Pride',\n",
      "  'last_service': '2/27/22'},\n",
      " {'_id': 966,\n",
      "  'car_make': 'Hyundai',\n",
      "  'car_model': 'Tucson',\n",
      "  'car_vin': 'WBAFV3C52ED597363',\n",
      "  'car_year': 2012,\n",
      "  'full_name': 'Corny Marryatt',\n",
      "  'last_service': '8/10/22'},\n",
      " {'_id': 488,\n",
      "  'car_make': 'Nissan',\n",
      "  'car_model': 'Sentra',\n",
      "  'car_vin': '3D7LP2ET6BG853076',\n",
      "  'car_year': 2012,\n",
      "  'full_name': 'Katerine Giffin',\n",
      "  'last_service': '9/22/22'},\n",
      " {'_id': 204,\n",
      "  'car_make': 'Nissan',\n",
      "  'car_model': 'Maxima',\n",
      "  'car_vin': 'JA32X2HU4CU568626',\n",
      "  'car_year': 2011,\n",
      "  'full_name': 'Alane Sturgess',\n",
      "  'last_service': '1/19/22'},\n",
      " {'_id': 969,\n",
      "  'car_make': 'Hyundai',\n",
      "  'car_model': 'Santa Fe',\n",
      "  'car_vin': 'JH4CL95835C272957',\n",
      "  'car_year': 2011,\n",
      "  'full_name': 'Feodor Bellin',\n",
      "  'last_service': '10/11/21'}]\n"
     ]
    }
   ],
   "source": [
    "# Create a query that:\n",
    "# finds customers with a \"Nissan\" or \"Hyundai\"\n",
    "# sorts in descending order by car_year, then ascending order by last_service\n",
    "# limits the results to the first 5\n",
    "query = {'car_make': {'$in': [\"Nissan\", \"Hyundai\"]}}\n",
    "sort = [('car_year', -1), ('last_service', 1)]\n",
    "limit = 5\n",
    "\n",
    "# Pretty print the results\n",
    "pprint(list(customers.find(query).sort(sort).limit(limit)))"
   ]
  },
  {
   "cell_type": "code",
   "execution_count": null,
   "id": "9b0d18e1",
   "metadata": {},
   "outputs": [],
   "source": []
  }
 ],
 "metadata": {
  "kernelspec": {
   "display_name": "PythonData",
   "language": "python",
   "name": "pythondata"
  },
  "language_info": {
   "codemirror_mode": {
    "name": "ipython",
    "version": 3
   },
   "file_extension": ".py",
   "mimetype": "text/x-python",
   "name": "python",
   "nbconvert_exporter": "python",
   "pygments_lexer": "ipython3",
   "version": "3.7.7"
  }
 },
 "nbformat": 4,
 "nbformat_minor": 5
}
