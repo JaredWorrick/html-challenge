{
 "cells": [
  {
   "cell_type": "code",
   "execution_count": null,
   "id": "258424d5",
   "metadata": {},
   "outputs": [],
   "source": [
    "# Import dependencies\n",
    "from pymongo import MongoClient\n",
    "from pprint import pprint"
   ]
  },
  {
   "cell_type": "code",
   "execution_count": null,
   "id": "41b45cfb",
   "metadata": {},
   "outputs": [],
   "source": [
    "# Create an instance of MongoClient\n",
    "mongo = MongoClient(port=27017)"
   ]
  },
  {
   "cell_type": "code",
   "execution_count": null,
   "id": "467ff8ff",
   "metadata": {},
   "outputs": [],
   "source": [
    "# confirm that the \"autosaurus\" database is in MongoDB\n",
    "print(mongo.list_database_names())"
   ]
  },
  {
   "cell_type": "code",
   "execution_count": null,
   "id": "a241f772",
   "metadata": {},
   "outputs": [],
   "source": [
    "# assign the database to a variable name\n",
    "db = mongo['autosaurus']"
   ]
  },
  {
   "cell_type": "code",
   "execution_count": null,
   "id": "74d1c395",
   "metadata": {},
   "outputs": [],
   "source": [
    "# review the collections in our new database\n",
    "print(db.list_collection_names())"
   ]
  },
  {
   "cell_type": "code",
   "execution_count": null,
   "id": "a4381bfa",
   "metadata": {},
   "outputs": [],
   "source": [
    "# assign each collection to a variable\n",
    "customers = db['customers']\n",
    "mechanics = db['mechanics']"
   ]
  },
  {
   "cell_type": "code",
   "execution_count": null,
   "id": "871b68f7",
   "metadata": {},
   "outputs": [],
   "source": [
    "# Create a query that sorts in ascending order by last_service\n",
    "\n",
    "# Capture the results to a variable\n",
    "\n",
    "# Pretty print the first five results\n"
   ]
  },
  {
   "cell_type": "code",
   "execution_count": null,
   "id": "518dbe8b",
   "metadata": {},
   "outputs": [],
   "source": [
    "# Create a query that sorts in ascending order by last_service and limits the results to the first 5\n",
    "\n",
    "# Pretty print the results\n"
   ]
  },
  {
   "cell_type": "code",
   "execution_count": null,
   "id": "280fa523",
   "metadata": {},
   "outputs": [],
   "source": [
    "# Create a query that:\n",
    "# finds customers with a \"Nissan\" or \"Hyundai\"\n",
    "# sorts in descending order by car_year\n",
    "# limits the results to the first 5\n",
    "\n",
    "\n",
    "# Pretty print the results\n"
   ]
  },
  {
   "cell_type": "code",
   "execution_count": null,
   "id": "79e97e67",
   "metadata": {},
   "outputs": [],
   "source": [
    "# Create a query that:\n",
    "# finds customers with a \"Nissan\" or \"Hyundai\"\n",
    "# sorts in descending order by car_year, then ascending order by last_service\n",
    "# limits the results to the first 5\n",
    "\n",
    "\n",
    "# Pretty print the results\n"
   ]
  }
 ],
 "metadata": {
  "kernelspec": {
   "display_name": "PythonData",
   "language": "python",
   "name": "pythondata"
  },
  "language_info": {
   "codemirror_mode": {
    "name": "ipython",
    "version": 3
   },
   "file_extension": ".py",
   "mimetype": "text/x-python",
   "name": "python",
   "nbconvert_exporter": "python",
   "pygments_lexer": "ipython3",
   "version": "3.7.7"
  }
 },
 "nbformat": 4,
 "nbformat_minor": 5
}
